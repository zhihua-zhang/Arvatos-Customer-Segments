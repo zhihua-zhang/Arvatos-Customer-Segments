{
 "cells": [
  {
   "cell_type": "markdown",
   "metadata": {},
   "source": [
    "# Capstone Project: Create a Customer Segmentation Report for Arvato Financial Services\n",
    "\n",
    "In this project, you will analyze demographics data for customers of a mail-order sales company in Germany, comparing it against demographics information for the general population. You'll use unsupervised learning techniques to perform customer segmentation, identifying the parts of the population that best describe the core customer base of the company. Then, you'll apply what you've learned on a third dataset with demographics information for targets of a marketing campaign for the company, and use a model to predict which individuals are most likely to convert into becoming customers for the company. The data that you will use has been provided by our partners at Bertelsmann Arvato Analytics, and represents a real-life data science task.\n",
    "\n",
    "If you completed the first term of this program, you will be familiar with the first part of this project, from the unsupervised learning project. The versions of those two datasets used in this project will include many more features and has not been pre-cleaned. You are also free to choose whatever approach you'd like to analyzing the data rather than follow pre-determined steps. In your work on this project, make sure that you carefully document your steps and decisions, since your main deliverable for this project will be a blog post reporting your findings."
   ]
  },
  {
   "cell_type": "code",
   "execution_count": 1,
   "metadata": {
    "ExecuteTime": {
     "end_time": "2020-08-23T12:38:59.951862Z",
     "start_time": "2020-08-23T12:38:58.094739Z"
    },
    "hide_input": false
   },
   "outputs": [],
   "source": [
    "# import libraries here; add more as necessary\n",
    "import numpy as np\n",
    "import pandas as pd\n",
    "import matplotlib.pyplot as plt\n",
    "import seaborn as sns\n",
    "import warnings\n",
    "import copy\n",
    "import time\n",
    "warnings.filterwarnings('ignore')\n",
    "\n",
    "# magic word for producing visualizations in notebook\n",
    "%matplotlib inline\n",
    "plt.rcParams['savefig.dpi'] = 300\n",
    "plt.rcParams['figure.dpi'] = 100"
   ]
  },
  {
   "cell_type": "markdown",
   "metadata": {},
   "source": [
    "## Part 0: Get to Know the Data\n",
    "\n",
    "There are four data files associated with this project:\n",
    "\n",
    "- `Udacity_AZDIAS_052018.csv`: Demographics data for the general population of Germany; 891 211 persons (rows) x 366 features (columns).\n",
    "- `Udacity_CUSTOMERS_052018.csv`: Demographics data for customers of a mail-order company; 191 652 persons (rows) x 369 features (columns).\n",
    "- `Udacity_MAILOUT_052018_TRAIN.csv`: Demographics data for individuals who were targets of a marketing campaign; 42 982 persons (rows) x 367 (columns).\n",
    "- `Udacity_MAILOUT_052018_TEST.csv`: Demographics data for individuals who were targets of a marketing campaign; 42 833 persons (rows) x 366 (columns).\n",
    "\n",
    "Each row of the demographics files represents a single person, but also includes information outside of individuals, including information about their household, building, and neighborhood. Use the information from the first two files to figure out how customers (\"CUSTOMERS\") are similar to or differ from the general population at large (\"AZDIAS\"), then use your analysis to make predictions on the other two files (\"MAILOUT\"), predicting which recipients are most likely to become a customer for the mail-order company.\n",
    "\n",
    "The \"CUSTOMERS\" file contains three extra columns ('CUSTOMER_GROUP', 'ONLINE_PURCHASE', and 'PRODUCT_GROUP'), which provide broad information about the customers depicted in the file. The original \"MAILOUT\" file included one additional column, \"RESPONSE\", which indicated whether or not each recipient became a customer of the company. For the \"TRAIN\" subset, this column has been retained, but in the \"TEST\" subset it has been removed; it is against that withheld column that your final predictions will be assessed in the Kaggle competition.\n",
    "\n",
    "Otherwise, all of the remaining columns are the same between the three data files. For more information about the columns depicted in the files, you can refer to two Excel spreadsheets provided in the workspace. [One of them](./DIAS Information Levels - Attributes 2017.xlsx) is a top-level list of attributes and descriptions, organized by informational category. [The other](./DIAS Attributes - Values 2017.xlsx) is a detailed mapping of data values for each feature in alphabetical order.\n",
    "\n",
    "In the below cell, we've provided some initial code to load in the first two datasets. Note for all of the `.csv` data files in this project that they're semicolon (`;`) delimited, so an additional argument in the [`read_csv()`](https://pandas.pydata.org/pandas-docs/stable/generated/pandas.read_csv.html) call has been included to read in the data properly. Also, considering the size of the datasets, it may take some time for them to load completely.\n",
    "\n",
    "You'll notice when the data is loaded in that a warning message will immediately pop up. Before you really start digging into the modeling and analysis, you're going to need to perform some cleaning. Take some time to browse the structure of the data and look over the informational spreadsheets to understand the data values. Make some decisions on which features to keep, which features to drop, and if any revisions need to be made on data formats. It'll be a good idea to create a function with pre-processing steps, since you'll need to clean all of the datasets before you work with them."
   ]
  },
  {
   "cell_type": "code",
   "execution_count": 2,
   "metadata": {
    "ExecuteTime": {
     "end_time": "2020-08-23T12:39:33.354901Z",
     "start_time": "2020-08-23T12:38:59.954530Z"
    }
   },
   "outputs": [],
   "source": [
    "# load in the data\n",
    "import os\n",
    "azdias = pd.read_csv(os.path.join(os.getcwd(), 'azdias.csv')).iloc[:, 1:]\n",
    "customers = pd.read_csv(os.path.join(os.getcwd(), 'customers.csv')).iloc[:, 1:]"
   ]
  },
  {
   "cell_type": "code",
   "execution_count": 3,
   "metadata": {
    "ExecuteTime": {
     "end_time": "2020-08-23T12:39:35.246554Z",
     "start_time": "2020-08-23T12:39:33.357916Z"
    }
   },
   "outputs": [],
   "source": [
    "azdias_copy = azdias.copy()\n",
    "customers_copy = customers.copy()\n",
    "\n",
    "# azdias = azdias_copy.copy()\n",
    "# customers = customers_copy.copy()"
   ]
  },
  {
   "cell_type": "markdown",
   "metadata": {},
   "source": [
    "## Part 1: Customer Segmentation Report\n",
    "\n",
    "The main bulk of your analysis will come in this part of the project. Here, you should use unsupervised learning techniques to describe the relationship between the demographics of the company's existing customers and the general population of Germany. By the end of this part, you should be able to describe parts of the general population that are more likely to be part of the mail-order company's main customer base, and which parts of the general population are less so."
   ]
  },
  {
   "cell_type": "markdown",
   "metadata": {},
   "source": [
    "### First, we take a glance of what the general population data looks like"
   ]
  },
  {
   "cell_type": "code",
   "execution_count": 4,
   "metadata": {
    "ExecuteTime": {
     "end_time": "2020-08-23T12:39:35.278551Z",
     "start_time": "2020-08-23T12:39:35.249247Z"
    }
   },
   "outputs": [
    {
     "data": {
      "text/html": [
       "<div>\n",
       "<style scoped>\n",
       "    .dataframe tbody tr th:only-of-type {\n",
       "        vertical-align: middle;\n",
       "    }\n",
       "\n",
       "    .dataframe tbody tr th {\n",
       "        vertical-align: top;\n",
       "    }\n",
       "\n",
       "    .dataframe thead th {\n",
       "        text-align: right;\n",
       "    }\n",
       "</style>\n",
       "<table border=\"1\" class=\"dataframe\">\n",
       "  <thead>\n",
       "    <tr style=\"text-align: right;\">\n",
       "      <th></th>\n",
       "      <th>LNR</th>\n",
       "      <th>AGER_TYP</th>\n",
       "      <th>AKT_DAT_KL</th>\n",
       "      <th>ALTER_HH</th>\n",
       "      <th>ALTER_KIND1</th>\n",
       "      <th>ALTER_KIND2</th>\n",
       "      <th>ALTER_KIND3</th>\n",
       "      <th>ALTER_KIND4</th>\n",
       "      <th>ALTERSKATEGORIE_FEIN</th>\n",
       "      <th>ANZ_HAUSHALTE_AKTIV</th>\n",
       "      <th>...</th>\n",
       "      <th>VHN</th>\n",
       "      <th>VK_DHT4A</th>\n",
       "      <th>VK_DISTANZ</th>\n",
       "      <th>VK_ZG11</th>\n",
       "      <th>W_KEIT_KIND_HH</th>\n",
       "      <th>WOHNDAUER_2008</th>\n",
       "      <th>WOHNLAGE</th>\n",
       "      <th>ZABEOTYP</th>\n",
       "      <th>ANREDE_KZ</th>\n",
       "      <th>ALTERSKATEGORIE_GROB</th>\n",
       "    </tr>\n",
       "  </thead>\n",
       "  <tbody>\n",
       "    <tr>\n",
       "      <th>0</th>\n",
       "      <td>910215</td>\n",
       "      <td>-1</td>\n",
       "      <td>NaN</td>\n",
       "      <td>NaN</td>\n",
       "      <td>NaN</td>\n",
       "      <td>NaN</td>\n",
       "      <td>NaN</td>\n",
       "      <td>NaN</td>\n",
       "      <td>NaN</td>\n",
       "      <td>NaN</td>\n",
       "      <td>...</td>\n",
       "      <td>NaN</td>\n",
       "      <td>NaN</td>\n",
       "      <td>NaN</td>\n",
       "      <td>NaN</td>\n",
       "      <td>NaN</td>\n",
       "      <td>NaN</td>\n",
       "      <td>NaN</td>\n",
       "      <td>3</td>\n",
       "      <td>1</td>\n",
       "      <td>2</td>\n",
       "    </tr>\n",
       "    <tr>\n",
       "      <th>1</th>\n",
       "      <td>910220</td>\n",
       "      <td>-1</td>\n",
       "      <td>9.0</td>\n",
       "      <td>0.0</td>\n",
       "      <td>NaN</td>\n",
       "      <td>NaN</td>\n",
       "      <td>NaN</td>\n",
       "      <td>NaN</td>\n",
       "      <td>21.0</td>\n",
       "      <td>11.0</td>\n",
       "      <td>...</td>\n",
       "      <td>4.0</td>\n",
       "      <td>8.0</td>\n",
       "      <td>11.0</td>\n",
       "      <td>10.0</td>\n",
       "      <td>3.0</td>\n",
       "      <td>9.0</td>\n",
       "      <td>4.0</td>\n",
       "      <td>5</td>\n",
       "      <td>2</td>\n",
       "      <td>1</td>\n",
       "    </tr>\n",
       "    <tr>\n",
       "      <th>2</th>\n",
       "      <td>910225</td>\n",
       "      <td>-1</td>\n",
       "      <td>9.0</td>\n",
       "      <td>17.0</td>\n",
       "      <td>NaN</td>\n",
       "      <td>NaN</td>\n",
       "      <td>NaN</td>\n",
       "      <td>NaN</td>\n",
       "      <td>17.0</td>\n",
       "      <td>10.0</td>\n",
       "      <td>...</td>\n",
       "      <td>2.0</td>\n",
       "      <td>9.0</td>\n",
       "      <td>9.0</td>\n",
       "      <td>6.0</td>\n",
       "      <td>3.0</td>\n",
       "      <td>9.0</td>\n",
       "      <td>2.0</td>\n",
       "      <td>5</td>\n",
       "      <td>2</td>\n",
       "      <td>3</td>\n",
       "    </tr>\n",
       "    <tr>\n",
       "      <th>3</th>\n",
       "      <td>910226</td>\n",
       "      <td>2</td>\n",
       "      <td>1.0</td>\n",
       "      <td>13.0</td>\n",
       "      <td>NaN</td>\n",
       "      <td>NaN</td>\n",
       "      <td>NaN</td>\n",
       "      <td>NaN</td>\n",
       "      <td>13.0</td>\n",
       "      <td>1.0</td>\n",
       "      <td>...</td>\n",
       "      <td>0.0</td>\n",
       "      <td>7.0</td>\n",
       "      <td>10.0</td>\n",
       "      <td>11.0</td>\n",
       "      <td>NaN</td>\n",
       "      <td>9.0</td>\n",
       "      <td>7.0</td>\n",
       "      <td>3</td>\n",
       "      <td>2</td>\n",
       "      <td>4</td>\n",
       "    </tr>\n",
       "  </tbody>\n",
       "</table>\n",
       "<p>4 rows × 366 columns</p>\n",
       "</div>"
      ],
      "text/plain": [
       "      LNR  AGER_TYP  AKT_DAT_KL  ALTER_HH  ALTER_KIND1  ALTER_KIND2  \\\n",
       "0  910215        -1         NaN       NaN          NaN          NaN   \n",
       "1  910220        -1         9.0       0.0          NaN          NaN   \n",
       "2  910225        -1         9.0      17.0          NaN          NaN   \n",
       "3  910226         2         1.0      13.0          NaN          NaN   \n",
       "\n",
       "   ALTER_KIND3  ALTER_KIND4  ALTERSKATEGORIE_FEIN  ANZ_HAUSHALTE_AKTIV  ...  \\\n",
       "0          NaN          NaN                   NaN                  NaN  ...   \n",
       "1          NaN          NaN                  21.0                 11.0  ...   \n",
       "2          NaN          NaN                  17.0                 10.0  ...   \n",
       "3          NaN          NaN                  13.0                  1.0  ...   \n",
       "\n",
       "   VHN  VK_DHT4A  VK_DISTANZ  VK_ZG11  W_KEIT_KIND_HH  WOHNDAUER_2008  \\\n",
       "0  NaN       NaN         NaN      NaN             NaN             NaN   \n",
       "1  4.0       8.0        11.0     10.0             3.0             9.0   \n",
       "2  2.0       9.0         9.0      6.0             3.0             9.0   \n",
       "3  0.0       7.0        10.0     11.0             NaN             9.0   \n",
       "\n",
       "   WOHNLAGE ZABEOTYP ANREDE_KZ ALTERSKATEGORIE_GROB  \n",
       "0       NaN        3         1                    2  \n",
       "1       4.0        5         2                    1  \n",
       "2       2.0        5         2                    3  \n",
       "3       7.0        3         2                    4  \n",
       "\n",
       "[4 rows x 366 columns]"
      ]
     },
     "execution_count": 4,
     "metadata": {},
     "output_type": "execute_result"
    }
   ],
   "source": [
    "azdias.head(4)"
   ]
  },
  {
   "cell_type": "code",
   "execution_count": 5,
   "metadata": {
    "ExecuteTime": {
     "end_time": "2020-08-23T12:39:35.285311Z",
     "start_time": "2020-08-23T12:39:35.280771Z"
    }
   },
   "outputs": [
    {
     "data": {
      "text/plain": [
       "(891221, 366)"
      ]
     },
     "execution_count": 5,
     "metadata": {},
     "output_type": "execute_result"
    }
   ],
   "source": [
    "azdias.shape"
   ]
  },
  {
   "cell_type": "code",
   "execution_count": 6,
   "metadata": {
    "ExecuteTime": {
     "end_time": "2020-08-23T12:39:37.138360Z",
     "start_time": "2020-08-23T12:39:35.287747Z"
    }
   },
   "outputs": [
    {
     "data": {
      "image/png": "[encoded data removed]",
      "text/plain": [
       "<Figure size 1600x700 with 9 Axes>"
      ]
     },
     "metadata": {
      "needs_background": "light"
     },
     "output_type": "display_data"
    }
   ],
   "source": [
    "_ = azdias.hist(column=azdias.columns[1::int(azdias.shape[1]//8)], figsize=(16, 7), bins=50)"
   ]
  },
  {
   "cell_type": "markdown",
   "metadata": {
    "ExecuteTime": {
     "end_time": "2020-07-22T14:52:39.343725Z",
     "start_time": "2020-07-22T14:52:39.332005Z"
    }
   },
   "source": [
    "We found that our data has many missing values and is mostly composed of categorical data. But instead of immediately droping all of them bearing risk of losing too much vailable data, we take a further check by counting the frequency of NaN in each feature. We present **top** 50 frequencies below."
   ]
  },
  {
   "cell_type": "code",
   "execution_count": 7,
   "metadata": {
    "ExecuteTime": {
     "end_time": "2020-08-23T12:39:38.675686Z",
     "start_time": "2020-08-23T12:39:37.140126Z"
    },
    "scrolled": true
   },
   "outputs": [
    {
     "data": {
      "text/plain": [
       "ALTER_KIND4                    0.998648\n",
       "ALTER_KIND3                    0.993077\n",
       "ALTER_KIND2                    0.966900\n",
       "ALTER_KIND1                    0.909048\n",
       "EXTSEL992                      0.733996\n",
       "KK_KUNDENTYP                   0.655967\n",
       "ALTERSKATEGORIE_FEIN           0.295041\n",
       "D19_LETZTER_KAUF_BRANCHE       0.288495\n",
       "D19_LOTTO                      0.288495\n",
       "D19_VERSI_ONLINE_QUOTE_12      0.288495\n",
       "D19_BANKEN_ONLINE_QUOTE_12     0.288495\n",
       "D19_SOZIALES                   0.288495\n",
       "D19_GESAMT_ONLINE_QUOTE_12     0.288495\n",
       "D19_KONSUMTYP                  0.288495\n",
       "D19_TELKO_ONLINE_QUOTE_12      0.288495\n",
       "D19_VERSAND_ONLINE_QUOTE_12    0.288495\n",
       "KBA05_MOTOR                    0.149597\n",
       "KBA05_MOD8                     0.149597\n",
       "KBA05_MOD4                     0.149597\n",
       "KBA05_MOD3                     0.149597\n",
       "KBA05_MOD2                     0.149597\n",
       "KBA05_SEG1                     0.149597\n",
       "KBA05_MOD1                     0.149597\n",
       "KBA05_MAXVORB                  0.149597\n",
       "KBA05_MAXSEG                   0.149597\n",
       "KBA05_MAXHERST                 0.149597\n",
       "KBA05_MAXBJ                    0.149597\n",
       "KBA05_MAXAH                    0.149597\n",
       "KBA05_KW3                      0.149597\n",
       "KBA05_MOTRAD                   0.149597\n",
       "KBA05_SEG3                     0.149597\n",
       "KBA05_SEG10                    0.149597\n",
       "KBA05_SEG2                     0.149597\n",
       "KBA05_ZUL2                     0.149597\n",
       "KBA05_SEG4                     0.149597\n",
       "KBA05_KW1                      0.149597\n",
       "KBA05_SEG5                     0.149597\n",
       "KBA05_SEG6                     0.149597\n",
       "KBA05_SEG7                     0.149597\n",
       "KBA05_SEG8                     0.149597\n",
       "KBA05_SEG9                     0.149597\n",
       "KBA05_VORB0                    0.149597\n",
       "KBA05_VORB1                    0.149597\n",
       "KBA05_VORB2                    0.149597\n",
       "KBA05_ZUL1                     0.149597\n",
       "KBA05_KW2                      0.149597\n",
       "KBA05_KRSHERST1                0.149597\n",
       "KBA05_KRSZUL                   0.149597\n",
       "KBA05_CCM3                     0.149597\n",
       "KBA05_ALTER1                   0.149597\n",
       "dtype: float64"
      ]
     },
     "execution_count": 7,
     "metadata": {},
     "output_type": "execute_result"
    }
   ],
   "source": [
    "azdias_na_sorted = azdias.isna().mean(axis=0).sort_values(ascending=False)\n",
    "azdias_na_sorted.iloc[:50]"
   ]
  },
  {
   "cell_type": "markdown",
   "metadata": {},
   "source": [
    "From this counting, we can observe:\n",
    "1. Six of them have more than 90% NaN, which barely contains valuable info for predicting future, so we **drop** them."
   ]
  },
  {
   "cell_type": "code",
   "execution_count": 8,
   "metadata": {
    "ExecuteTime": {
     "end_time": "2020-08-23T12:39:42.726466Z",
     "start_time": "2020-08-23T12:39:38.679755Z"
    }
   },
   "outputs": [
    {
     "name": "stdout",
     "output_type": "stream",
     "text": [
      "(891221, 366)\n",
      "(891221, 362)\n"
     ]
    }
   ],
   "source": [
    "print(azdias.shape)\n",
    "azdias = azdias.loc[:, azdias.isna().mean(axis=0)  <= 0.9]\n",
    "print(azdias.shape)"
   ]
  },
  {
   "cell_type": "markdown",
   "metadata": {},
   "source": [
    "2. Some features like \"EINGEFUEGT_AM\" and \"OST_WEST_KZ\" are object-type, i.e., non-numerical data. We take a further check of them:"
   ]
  },
  {
   "cell_type": "code",
   "execution_count": 9,
   "metadata": {
    "ExecuteTime": {
     "end_time": "2020-08-23T12:39:42.796879Z",
     "start_time": "2020-08-23T12:39:42.729313Z"
    },
    "scrolled": false
   },
   "outputs": [
    {
     "data": {
      "text/html": [
       "<div>\n",
       "<style scoped>\n",
       "    .dataframe tbody tr th:only-of-type {\n",
       "        vertical-align: middle;\n",
       "    }\n",
       "\n",
       "    .dataframe tbody tr th {\n",
       "        vertical-align: top;\n",
       "    }\n",
       "\n",
       "    .dataframe thead th {\n",
       "        text-align: right;\n",
       "    }\n",
       "</style>\n",
       "<table border=\"1\" class=\"dataframe\">\n",
       "  <thead>\n",
       "    <tr style=\"text-align: right;\">\n",
       "      <th></th>\n",
       "      <th>CAMEO_DEU_2015</th>\n",
       "      <th>CAMEO_DEUG_2015</th>\n",
       "      <th>CAMEO_INTL_2015</th>\n",
       "      <th>D19_LETZTER_KAUF_BRANCHE</th>\n",
       "      <th>EINGEFUEGT_AM</th>\n",
       "      <th>OST_WEST_KZ</th>\n",
       "    </tr>\n",
       "  </thead>\n",
       "  <tbody>\n",
       "    <tr>\n",
       "      <th>0</th>\n",
       "      <td>NaN</td>\n",
       "      <td>NaN</td>\n",
       "      <td>NaN</td>\n",
       "      <td>NaN</td>\n",
       "      <td>NaN</td>\n",
       "      <td>NaN</td>\n",
       "    </tr>\n",
       "    <tr>\n",
       "      <th>1</th>\n",
       "      <td>8A</td>\n",
       "      <td>8</td>\n",
       "      <td>51</td>\n",
       "      <td>NaN</td>\n",
       "      <td>1992-02-10 00:00:00</td>\n",
       "      <td>W</td>\n",
       "    </tr>\n",
       "    <tr>\n",
       "      <th>2</th>\n",
       "      <td>4C</td>\n",
       "      <td>4</td>\n",
       "      <td>24</td>\n",
       "      <td>D19_UNBEKANNT</td>\n",
       "      <td>1992-02-12 00:00:00</td>\n",
       "      <td>W</td>\n",
       "    </tr>\n",
       "    <tr>\n",
       "      <th>3</th>\n",
       "      <td>2A</td>\n",
       "      <td>2</td>\n",
       "      <td>12</td>\n",
       "      <td>D19_UNBEKANNT</td>\n",
       "      <td>1997-04-21 00:00:00</td>\n",
       "      <td>W</td>\n",
       "    </tr>\n",
       "    <tr>\n",
       "      <th>4</th>\n",
       "      <td>6B</td>\n",
       "      <td>6</td>\n",
       "      <td>43</td>\n",
       "      <td>D19_SCHUHE</td>\n",
       "      <td>1992-02-12 00:00:00</td>\n",
       "      <td>W</td>\n",
       "    </tr>\n",
       "    <tr>\n",
       "      <th>5</th>\n",
       "      <td>8C</td>\n",
       "      <td>8</td>\n",
       "      <td>54</td>\n",
       "      <td>D19_ENERGIE</td>\n",
       "      <td>1992-02-12 00:00:00</td>\n",
       "      <td>W</td>\n",
       "    </tr>\n",
       "    <tr>\n",
       "      <th>6</th>\n",
       "      <td>4A</td>\n",
       "      <td>4</td>\n",
       "      <td>22</td>\n",
       "      <td>D19_UNBEKANNT</td>\n",
       "      <td>1992-02-12 00:00:00</td>\n",
       "      <td>W</td>\n",
       "    </tr>\n",
       "  </tbody>\n",
       "</table>\n",
       "</div>"
      ],
      "text/plain": [
       "  CAMEO_DEU_2015 CAMEO_DEUG_2015 CAMEO_INTL_2015 D19_LETZTER_KAUF_BRANCHE  \\\n",
       "0            NaN             NaN             NaN                      NaN   \n",
       "1             8A               8              51                      NaN   \n",
       "2             4C               4              24            D19_UNBEKANNT   \n",
       "3             2A               2              12            D19_UNBEKANNT   \n",
       "4             6B               6              43               D19_SCHUHE   \n",
       "5             8C               8              54              D19_ENERGIE   \n",
       "6             4A               4              22            D19_UNBEKANNT   \n",
       "\n",
       "         EINGEFUEGT_AM OST_WEST_KZ  \n",
       "0                  NaN         NaN  \n",
       "1  1992-02-10 00:00:00           W  \n",
       "2  1992-02-12 00:00:00           W  \n",
       "3  1997-04-21 00:00:00           W  \n",
       "4  1992-02-12 00:00:00           W  \n",
       "5  1992-02-12 00:00:00           W  \n",
       "6  1992-02-12 00:00:00           W  "
      ]
     },
     "execution_count": 9,
     "metadata": {},
     "output_type": "execute_result"
    }
   ],
   "source": [
    "azdias.iloc[:, [i for i in range(azdias.shape[1]) if azdias.iloc[:, i].dtype == object]].head(7)"
   ]
  },
  {
   "cell_type": "markdown",
   "metadata": {},
   "source": [
    "* We verified them one by one against the informational spreads that found \"CAMEO_DEU_2015\" and \"OST_WEST_KZ\" are useful featuers including detailed customer information, so we keep them and transform them into categorical values \"-1, 1, 2, ... \" like other feartures.  "
   ]
  },
  {
   "cell_type": "code",
   "execution_count": 10,
   "metadata": {
    "ExecuteTime": {
     "end_time": "2020-08-23T12:39:44.391707Z",
     "start_time": "2020-08-23T12:39:42.799245Z"
    }
   },
   "outputs": [],
   "source": [
    "object_to_num_func = lambda seq: seq.replace(seq.unique(), [-1] + list(range(1, len(seq.unique()))), inplace=True)\n",
    "object_to_num_func(azdias.loc[:, 'CAMEO_DEU_2015'])\n",
    "object_to_num_func(azdias.loc[:, 'OST_WEST_KZ'])"
   ]
  },
  {
   "cell_type": "markdown",
   "metadata": {},
   "source": [
    "* \"CAMEO_DEUG_2015\" and \"CAMEO_INTL_2015\" are numerical variables but wrongly recorded as string:"
   ]
  },
  {
   "cell_type": "code",
   "execution_count": 11,
   "metadata": {
    "ExecuteTime": {
     "end_time": "2020-08-23T12:39:44.523984Z",
     "start_time": "2020-08-23T12:39:44.393941Z"
    }
   },
   "outputs": [
    {
     "name": "stdout",
     "output_type": "stream",
     "text": [
      "[nan 8.0 4.0 2.0 6.0 1.0 9.0 5.0 7.0 3.0 '4' '3' '7' '2' '8' '9' '6' '5'\n",
      " '1' 'X'] \n",
      " [nan 51.0 24.0 12.0 43.0 54.0 22.0 14.0 13.0 15.0 33.0 41.0 34.0 55.0 25.0\n",
      " 23.0 31.0 52.0 35.0 45.0 44.0 32.0 '22' '24' '41' '12' '54' '51' '44'\n",
      " '35' '23' '25' '14' '34' '52' '55' '31' '32' '15' '13' '43' '33' '45'\n",
      " 'XX']\n"
     ]
    }
   ],
   "source": [
    "print(azdias['CAMEO_DEUG_2015'].unique(), '\\n', azdias['CAMEO_INTL_2015'].unique())"
   ]
  },
  {
   "cell_type": "markdown",
   "metadata": {},
   "source": [
    "so we change them back to digital metrics."
   ]
  },
  {
   "cell_type": "code",
   "execution_count": 12,
   "metadata": {
    "ExecuteTime": {
     "end_time": "2020-08-23T12:39:51.377937Z",
     "start_time": "2020-08-23T12:39:44.526763Z"
    },
    "scrolled": true
   },
   "outputs": [],
   "source": [
    "azdias.loc[:, 'CAMEO_DEUG_2015'] = azdias.loc[:, 'CAMEO_DEUG_2015'].fillna(-1).replace({'X':-1}).values.astype(float)\n",
    "azdias.loc[:, 'CAMEO_INTL_2015'] = azdias.loc[:, 'CAMEO_INTL_2015'].fillna(-1).replace({'XX':-1}).values.astype(float)"
   ]
  },
  {
   "cell_type": "markdown",
   "metadata": {},
   "source": [
    "* But \"D19_LETZTER_KAUF_BRANCHE\" and \"EINGEFUEGT_AM\" don't have useful information, so we drop them."
   ]
  },
  {
   "cell_type": "code",
   "execution_count": 13,
   "metadata": {
    "ExecuteTime": {
     "end_time": "2020-08-23T12:39:56.366967Z",
     "start_time": "2020-08-23T12:39:51.380268Z"
    }
   },
   "outputs": [
    {
     "name": "stdout",
     "output_type": "stream",
     "text": [
      "(891221, 362)\n",
      "(891221, 360)\n"
     ]
    }
   ],
   "source": [
    "print(azdias.shape)\n",
    "azdias.drop(columns=['D19_LETZTER_KAUF_BRANCHE', 'EINGEFUEGT_AM'], inplace=True)\n",
    "print(azdias.shape)"
   ]
  },
  {
   "cell_type": "markdown",
   "metadata": {},
   "source": [
    "3. The rest of features appear to have some _correlationship_ with many of them belonging to the same category and having the same frequency of NaN, like \"D19_ ... \" and \"KBA05_ ... \", which means we can handle them in a similar way. Diving into the informational speadsheets, we found they were numerical categories variables. In addition, because most of them have value \"-1\" when they are unknown, we decided to **fill NaN with -1** as well to represent this data missing."
   ]
  },
  {
   "cell_type": "code",
   "execution_count": 14,
   "metadata": {
    "ExecuteTime": {
     "end_time": "2020-08-23T12:39:57.105686Z",
     "start_time": "2020-08-23T12:39:56.369190Z"
    },
    "scrolled": false
   },
   "outputs": [],
   "source": [
    "azdias.fillna(value= -1, inplace=True)"
   ]
  },
  {
   "cell_type": "markdown",
   "metadata": {},
   "source": [
    "Now, we merge all the preprocessing steps done above in a function for future usage."
   ]
  },
  {
   "cell_type": "code",
   "execution_count": 15,
   "metadata": {
    "ExecuteTime": {
     "end_time": "2020-08-23T12:39:57.117515Z",
     "start_time": "2020-08-23T12:39:57.107709Z"
    }
   },
   "outputs": [],
   "source": [
    "def azdias_data_preprocessing(df):\n",
    "    ## step 1\n",
    "    df = df.loc[:, df.isna().mean(axis=0)  <= 0.9]\n",
    "    \n",
    "    ## step 2.1\n",
    "    object_to_num_func = lambda seq: seq.replace(seq.unique(), [-1] + list(range(1, len(seq.unique()))), inplace=True)\n",
    "    object_to_num_func(df.loc[:, 'CAMEO_DEU_2015'])\n",
    "    object_to_num_func(df.loc[:, 'OST_WEST_KZ'])\n",
    "    ## step 2.2\n",
    "    df.loc[:, 'CAMEO_DEUG_2015'] = df.loc[:, 'CAMEO_DEUG_2015'].fillna(-1).replace({'X':-1}).values.astype(float)\n",
    "    df.loc[:, 'CAMEO_INTL_2015'] = df.loc[:, 'CAMEO_INTL_2015'].fillna(-1).replace({'XX':-1}).values.astype(float)\n",
    "    ## step 2.3\n",
    "    df.drop(columns=['D19_LETZTER_KAUF_BRANCHE', 'EINGEFUEGT_AM'], inplace=True)\n",
    "    \n",
    "    ## step 3\n",
    "    df.fillna(value= -1, inplace=True)\n",
    "    \n",
    "    return df"
   ]
  },
  {
   "cell_type": "markdown",
   "metadata": {},
   "source": [
    "### Secondly, as we finished preprocessing the general population data, we take a look at our customer data."
   ]
  },
  {
   "cell_type": "code",
   "execution_count": 16,
   "metadata": {
    "ExecuteTime": {
     "end_time": "2020-08-23T12:39:58.303897Z",
     "start_time": "2020-08-23T12:39:57.119941Z"
    },
    "scrolled": true
   },
   "outputs": [
    {
     "data": {
      "text/plain": [
       "ALTER_KIND4        0.998769\n",
       "ALTER_KIND3        0.993347\n",
       "ALTER_KIND2        0.973389\n",
       "ALTER_KIND1        0.938607\n",
       "KK_KUNDENTYP       0.584064\n",
       "EXTSEL992          0.444989\n",
       "KBA05_SEG7         0.292092\n",
       "KBA05_KW1          0.292092\n",
       "KBA05_SEG4         0.292092\n",
       "KBA05_SEG5         0.292092\n",
       "KBA05_SEG6         0.292092\n",
       "KBA05_MAXAH        0.292092\n",
       "KBA05_SEG8         0.292092\n",
       "KBA05_KW2          0.292092\n",
       "KBA05_VORB0        0.292092\n",
       "KBA05_KRSZUL       0.292092\n",
       "KBA05_VORB1        0.292092\n",
       "KBA05_KRSVAN       0.292092\n",
       "KBA05_KRSOBER      0.292092\n",
       "KBA05_SEG9         0.292092\n",
       "MOBI_REGIO         0.292092\n",
       "KBA05_KW3          0.292092\n",
       "KBA05_SEG3         0.292092\n",
       "KBA05_KRSHERST3    0.292092\n",
       "KBA05_MAXBJ        0.292092\n",
       "KBA05_MAXHERST     0.292092\n",
       "KBA05_MAXSEG       0.292092\n",
       "KBA05_MAXVORB      0.292092\n",
       "KBA05_MOD1         0.292092\n",
       "KBA05_MOD2         0.292092\n",
       "KBA05_MOD3         0.292092\n",
       "KBA05_MOD4         0.292092\n",
       "KBA05_MOD8         0.292092\n",
       "KBA05_MOTOR        0.292092\n",
       "KBA05_MOTRAD       0.292092\n",
       "KBA05_SEG2         0.292092\n",
       "KBA05_KRSKLEIN     0.292092\n",
       "KBA05_KRSAQUOT     0.292092\n",
       "KBA05_KRSHERST2    0.292092\n",
       "KBA05_KRSHERST1    0.292092\n",
       "KBA05_ZUL4         0.292092\n",
       "KBA05_ALTER1       0.292092\n",
       "KBA05_ALTER2       0.292092\n",
       "KBA05_ALTER3       0.292092\n",
       "KBA05_ZUL3         0.292092\n",
       "KBA05_ALTER4       0.292092\n",
       "KBA05_ANHANG       0.292092\n",
       "KBA05_ANTG1        0.292092\n",
       "KBA05_ZUL2         0.292092\n",
       "KBA05_ANTG2        0.292092\n",
       "dtype: float64"
      ]
     },
     "execution_count": 16,
     "metadata": {},
     "output_type": "execute_result"
    }
   ],
   "source": [
    "customers_na_sorted = customers.isna().mean(axis=0).sort_values(ascending=False)\n",
    "customers_na_sorted.iloc[:50]"
   ]
  },
  {
   "cell_type": "markdown",
   "metadata": {},
   "source": [
    "This customer data has similar data structure, so we apply the **same preprocessing** methods to it."
   ]
  },
  {
   "cell_type": "code",
   "execution_count": 17,
   "metadata": {
    "ExecuteTime": {
     "end_time": "2020-08-23T12:40:01.378360Z",
     "start_time": "2020-08-23T12:39:58.306076Z"
    }
   },
   "outputs": [],
   "source": [
    "customers  = azdias_data_preprocessing(customers)\n",
    "assert(azdias.shape[1] == (customers.shape[1] - 3))"
   ]
  },
  {
   "cell_type": "markdown",
   "metadata": {},
   "source": [
    "The customer data has three new features, we manually check them here."
   ]
  },
  {
   "cell_type": "code",
   "execution_count": 18,
   "metadata": {
    "ExecuteTime": {
     "end_time": "2020-08-23T12:40:01.407253Z",
     "start_time": "2020-08-23T12:40:01.380693Z"
    }
   },
   "outputs": [
    {
     "data": {
      "text/plain": [
       "[\"PRODUCT_GROUP: ['COSMETIC_AND_FOOD' 'FOOD' 'COSMETIC']\",\n",
       " 'ONLINE_PURCHASE: [0 1]',\n",
       " \"CUSTOMER_GROUP: ['MULTI_BUYER' 'SINGLE_BUYER']\"]"
      ]
     },
     "execution_count": 18,
     "metadata": {},
     "output_type": "execute_result"
    }
   ],
   "source": [
    "new_features = list(set(customers.columns) - set(azdias.columns))\n",
    "[('{feature}: {value}'.format(feature=col, value=customers.loc[:, col].unique())) for col in new_features]"
   ]
  },
  {
   "cell_type": "markdown",
   "metadata": {},
   "source": [
    "To make things look more clearly, we replace numerical value \"0\" and \"1\" as its real meaning."
   ]
  },
  {
   "cell_type": "code",
   "execution_count": 19,
   "metadata": {
    "ExecuteTime": {
     "end_time": "2020-08-23T12:40:01.524092Z",
     "start_time": "2020-08-23T12:40:01.409449Z"
    },
    "scrolled": true
   },
   "outputs": [],
   "source": [
    "customers['ONLINE_PURCHASE'].replace({0:'NOT_ONLINE_PURCHASE', 1:'ONLINE_PURCHASE'}, inplace=True)"
   ]
  },
  {
   "cell_type": "markdown",
   "metadata": {},
   "source": [
    "### Now, it's time to do PCA"
   ]
  },
  {
   "cell_type": "markdown",
   "metadata": {},
   "source": [
    "But at first we check whether there are some features not contributing to identifying cutomers, for example, ID helps recognize each individual but not tells characteristics of customers. Because our data mainly includes categorical features ranging in [-1, 0, 1, ... , n], we sort them by the absolute maximal value and look at their magnitudes."
   ]
  },
  {
   "cell_type": "code",
   "execution_count": 20,
   "metadata": {
    "ExecuteTime": {
     "end_time": "2020-08-23T12:40:11.067886Z",
     "start_time": "2020-08-23T12:40:01.526555Z"
    }
   },
   "outputs": [
    {
     "data": {
      "text/plain": [
       "LNR                     1082873.0\n",
       "KBA13_ANZAHL_PKW           2300.0\n",
       "EINGEZOGENAM_HH_JAHR       2018.0\n",
       "GEBURTSJAHR                2017.0\n",
       "MIN_GEBAEUDEJAHR           2016.0\n",
       "dtype: float64"
      ]
     },
     "execution_count": 20,
     "metadata": {},
     "output_type": "execute_result"
    }
   ],
   "source": [
    "azdias.abs().max().sort_values(ascending=False).head()"
   ]
  },
  {
   "cell_type": "markdown",
   "metadata": {},
   "source": [
    "Looking up the informational spreadsheets, we can find features \"KBA13_ANZAHL_PKW\", \"EINGEZOGENAM_HH_JAHR\", etc. useful but \"LNR\" is missing, so we take a further look at it."
   ]
  },
  {
   "cell_type": "code",
   "execution_count": 21,
   "metadata": {
    "ExecuteTime": {
     "end_time": "2020-08-23T12:40:11.134764Z",
     "start_time": "2020-08-23T12:40:11.072432Z"
    }
   },
   "outputs": [
    {
     "name": "stdout",
     "output_type": "stream",
     "text": [
      "891221 \n",
      " 0    910215\n",
      "1    910220\n",
      "2    910225\n",
      "3    910226\n",
      "4    910241\n",
      "Name: LNR, dtype: int64\n"
     ]
    }
   ],
   "source": [
    "print(azdias['LNR'].unique().shape[0], '\\n', azdias['LNR'].head())"
   ]
  },
  {
   "cell_type": "markdown",
   "metadata": {},
   "source": [
    "\"LNR\" seems to be an ID-like feature, whose magnitude as well as variance is huge, but doesn't provide valuable info, so we **leave it aside** when doing PCA. Moreover, because features 'CUSTOMER_GROUP', 'ONLINE_PURCHASE' and 'PRODUCT_GROUP' are exclusive to customers, we **wouldn't include them** when doing PCA for identifying the general population.  "
   ]
  },
  {
   "cell_type": "code",
   "execution_count": 22,
   "metadata": {
    "ExecuteTime": {
     "end_time": "2020-08-23T12:40:11.142956Z",
     "start_time": "2020-08-23T12:40:11.139196Z"
    }
   },
   "outputs": [],
   "source": [
    "pca_features = azdias.columns.to_list()\n",
    "pca_features.remove(\"LNR\")"
   ]
  },
  {
   "cell_type": "code",
   "execution_count": 23,
   "metadata": {
    "ExecuteTime": {
     "end_time": "2020-08-23T12:40:12.276874Z",
     "start_time": "2020-08-23T12:40:11.174740Z"
    },
    "scrolled": true
   },
   "outputs": [
    {
     "data": {
      "image/png": "[encoded data removed]",
      "text/plain": [
       "<Figure size 800x300 with 1 Axes>"
      ]
     },
     "metadata": {
      "needs_background": "light"
     },
     "output_type": "display_data"
    }
   ],
   "source": [
    "fig = plt.figure(figsize=(8,3))\n",
    "plt.hist(customers[pca_features].max(axis=0), bins=20)\n",
    "_ = plt.title('Maximal values of features')"
   ]
  },
  {
   "cell_type": "markdown",
   "metadata": {},
   "source": [
    "Note some features have different scales from the others, so we should **scale** them to make variance/information not be misjudged by magnitudes."
   ]
  },
  {
   "cell_type": "code",
   "execution_count": 24,
   "metadata": {
    "ExecuteTime": {
     "end_time": "2020-08-23T12:40:15.202686Z",
     "start_time": "2020-08-23T12:40:12.281594Z"
    },
    "scrolled": true
   },
   "outputs": [],
   "source": [
    "\"\"\" \n",
    "    We first make different features have comparable ranges, so we subtract the non-negative\n",
    "parts by its minimum. For example, [-1,2000,2002,2003] will become [-1,0,2,3] where \"-1\"\n",
    "still represents the missing value but the variance range goes back to normal.\n",
    "\n",
    "    Then, we scale features by their absolute maximal value to avoid variance being eliminated.\n",
    "\"\"\"\n",
    "\n",
    "customers_pca = customers[pca_features]\n",
    "customers_NonNegativeMin = np.where(customers_pca<0, np.inf, customers_pca).min(axis=0)\n",
    "customers_pca = customers_pca - customers_NonNegativeMin\n",
    "\n",
    "from sklearn.preprocessing import MinMaxScaler\n",
    "ss_customers = MinMaxScaler()\n",
    "customer_scaled = ss_customers.fit_transform(customers_pca)"
   ]
  },
  {
   "cell_type": "markdown",
   "metadata": {},
   "source": [
    "Now we can apply PCA and plot the cumulated sum of explained variance ratio for these PCs."
   ]
  },
  {
   "cell_type": "code",
   "execution_count": 25,
   "metadata": {
    "ExecuteTime": {
     "end_time": "2020-08-23T12:40:20.840458Z",
     "start_time": "2020-08-23T12:40:15.205157Z"
    },
    "scrolled": true
   },
   "outputs": [
    {
     "data": {
      "image/png": "[encoded data removed]",
      "text/plain": [
       "<Figure size 700x300 with 1 Axes>"
      ]
     },
     "metadata": {
      "needs_background": "light"
     },
     "output_type": "display_data"
    }
   ],
   "source": [
    "from sklearn.decomposition import PCA\n",
    "pca = PCA()\n",
    "customers_PCs = pca.fit_transform(customer_scaled)\n",
    "\n",
    "cumvar = pca.explained_variance_ratio_.cumsum()\n",
    "top_cumvar = cumvar[cumvar < 0.9]\n",
    "plt.figure(figsize=(7,3), dpi=100)\n",
    "plt.plot(np.arange(len(top_cumvar))+1, top_cumvar, 'o-', )\n",
    "_ = plt.title('Cumulative Explained Variance Ratio')"
   ]
  },
  {
   "cell_type": "markdown",
   "metadata": {},
   "source": [
    "We observe that the first 77 PCs can explain about 90% variance, which is a fair choice considering remaining information and computational efficiency, so we use them as the representatives of raw data set."
   ]
  },
  {
   "cell_type": "code",
   "execution_count": 26,
   "metadata": {
    "ExecuteTime": {
     "end_time": "2020-08-23T12:40:20.845963Z",
     "start_time": "2020-08-23T12:40:20.842548Z"
    }
   },
   "outputs": [
    {
     "name": "stdout",
     "output_type": "stream",
     "text": [
      "77\n"
     ]
    }
   ],
   "source": [
    "num_PCs = len(top_cumvar)\n",
    "print(num_PCs)\n",
    "customers_PCs = customers_PCs[:, :num_PCs]"
   ]
  },
  {
   "cell_type": "markdown",
   "metadata": {},
   "source": [
    "### With compressed PCs, we can do clustering to tell how likely the population can become our customers."
   ]
  },
  {
   "cell_type": "markdown",
   "metadata": {
    "ExecuteTime": {
     "end_time": "2020-08-01T03:20:57.764630Z",
     "start_time": "2020-08-01T03:20:57.759459Z"
    }
   },
   "source": [
    "Note that we fix the random seed to make results reproducible."
   ]
  },
  {
   "cell_type": "code",
   "execution_count": 27,
   "metadata": {
    "ExecuteTime": {
     "end_time": "2020-08-23T12:40:20.851102Z",
     "start_time": "2020-08-23T12:40:20.848333Z"
    }
   },
   "outputs": [],
   "source": [
    "RANDOM_SEED = 2020"
   ]
  },
  {
   "cell_type": "code",
   "execution_count": 28,
   "metadata": {
    "ExecuteTime": {
     "end_time": "2020-08-23T12:43:47.118537Z",
     "start_time": "2020-08-23T12:40:20.853111Z"
    },
    "scrolled": false
   },
   "outputs": [
    {
     "data": {
      "image/png": "[encoded data removed]",
      "text/plain": [
       "<Figure size 1300x300 with 2 Axes>"
      ]
     },
     "metadata": {
      "needs_background": "light"
     },
     "output_type": "display_data"
    }
   ],
   "source": [
    "from sklearn.cluster import KMeans\n",
    "inertias = []\n",
    "\n",
    "for k in range(2,13):\n",
    "    kmeans = KMeans(k, random_state=RANDOM_SEED, n_jobs=4).fit(customers_PCs)\n",
    "    inertias.append(kmeans.inertia_)\n",
    "\n",
    "fig = plt.figure(figsize=(13, 3))\n",
    "ax = fig.add_subplot(121, facecolor='black')\n",
    "ax.plot(list(range(2, 13)), inertias, 'o-')\n",
    "ax.set_xlabel(\"k\")\n",
    "ax.set_ylabel(\"inertias\")\n",
    "ax.set_title('elbow plot')\n",
    "\n",
    "ax = fig.add_subplot(122, facecolor='black')\n",
    "ax.plot(list(range(3, 13)), np.diff(inertias), 'o-')\n",
    "ax.set_xlabel(\"k\")\n",
    "ax.set_ylabel(\"delta inertias\")\n",
    "_ = ax.set_title('delta elbow plot')"
   ]
  },
  {
   "cell_type": "markdown",
   "metadata": {},
   "source": [
    "From the elbow plot and delta elbow plot, we see that **k = 4** would be a good choice because after that the increment of inertias slow down quickly.  "
   ]
  },
  {
   "cell_type": "code",
   "execution_count": 29,
   "metadata": {
    "ExecuteTime": {
     "end_time": "2020-08-23T12:43:56.730525Z",
     "start_time": "2020-08-23T12:43:47.121996Z"
    }
   },
   "outputs": [],
   "source": [
    "k = 4\n",
    "kmeans = KMeans(k).fit(customers_PCs)\n",
    "customers_pred = kmeans.predict(customers_PCs)"
   ]
  },
  {
   "cell_type": "markdown",
   "metadata": {},
   "source": [
    "Now use the three new features to describe customers characteristics behind our clusterning result."
   ]
  },
  {
   "cell_type": "code",
   "execution_count": 30,
   "metadata": {
    "ExecuteTime": {
     "end_time": "2020-08-23T12:43:57.731901Z",
     "start_time": "2020-08-23T12:43:56.738513Z"
    }
   },
   "outputs": [
    {
     "data": {
      "text/html": [
       "<div>\n",
       "<style scoped>\n",
       "    .dataframe tbody tr th:only-of-type {\n",
       "        vertical-align: middle;\n",
       "    }\n",
       "\n",
       "    .dataframe tbody tr th {\n",
       "        vertical-align: top;\n",
       "    }\n",
       "\n",
       "    .dataframe thead th {\n",
       "        text-align: right;\n",
       "    }\n",
       "</style>\n",
       "<table border=\"1\" class=\"dataframe\">\n",
       "  <thead>\n",
       "    <tr style=\"text-align: right;\">\n",
       "      <th></th>\n",
       "      <th>PRODUCT_GROUP</th>\n",
       "      <th>ONLINE_PURCHASE</th>\n",
       "      <th>CUSTOMER_GROUP</th>\n",
       "    </tr>\n",
       "  </thead>\n",
       "  <tbody>\n",
       "    <tr>\n",
       "      <th>Cluster 0</th>\n",
       "      <td>0.655423</td>\n",
       "      <td>0.484813</td>\n",
       "      <td>0.0</td>\n",
       "    </tr>\n",
       "    <tr>\n",
       "      <th>Cluster 1</th>\n",
       "      <td>0.655798</td>\n",
       "      <td>0.494536</td>\n",
       "      <td>0.0</td>\n",
       "    </tr>\n",
       "    <tr>\n",
       "      <th>Cluster 2</th>\n",
       "      <td>0.744611</td>\n",
       "      <td>0.582671</td>\n",
       "      <td>0.0</td>\n",
       "    </tr>\n",
       "    <tr>\n",
       "      <th>Cluster 3</th>\n",
       "      <td>0.708130</td>\n",
       "      <td>0.548600</td>\n",
       "      <td>0.0</td>\n",
       "    </tr>\n",
       "  </tbody>\n",
       "</table>\n",
       "</div>"
      ],
      "text/plain": [
       "           PRODUCT_GROUP  ONLINE_PURCHASE  CUSTOMER_GROUP\n",
       "Cluster 0       0.655423         0.484813             0.0\n",
       "Cluster 1       0.655798         0.494536             0.0\n",
       "Cluster 2       0.744611         0.582671             0.0\n",
       "Cluster 3       0.708130         0.548600             0.0"
      ]
     },
     "execution_count": 30,
     "metadata": {},
     "output_type": "execute_result"
    }
   ],
   "source": [
    "## convert text data into numerical foramt so that it's easier to count \n",
    "_dict_to_num = lambda obj: dict(zip(np.unique(obj), np.arange(np.unique(obj).shape[0])))\n",
    "\n",
    "belongings = pd.DataFrame(np.zeros((k, len(new_features))), index=['Cluster {}'.format(i) for i in range(k)], columns=new_features)\n",
    "for x in new_features:\n",
    "    feature = customers[x].replace(_dict_to_num(customers[x]))\n",
    "    for cluster in range(k):\n",
    "        feature_count = np.bincount(feature.iloc[customers_pred == cluster])\n",
    "        belongings.iloc[cluster, np.argmax(feature_count)] = np.max(feature_count)/np.sum(feature_count)\n",
    "belongings"
   ]
  },
  {
   "cell_type": "markdown",
   "metadata": {},
   "source": [
    "To make things more clearly, we **visualize the result in 2D**, i.e., using two PCs, to see if these clusters are really well seperated."
   ]
  },
  {
   "cell_type": "code",
   "execution_count": 31,
   "metadata": {
    "ExecuteTime": {
     "end_time": "2020-08-23T12:44:08.550960Z",
     "start_time": "2020-08-23T12:43:57.734000Z"
    }
   },
   "outputs": [
    {
     "data": {
      "image/png": "[encoded data removed]",
      "text/plain": [
       "<Figure size 800x300 with 2 Axes>"
      ]
     },
     "metadata": {
      "needs_background": "light"
     },
     "output_type": "display_data"
    }
   ],
   "source": [
    "np.random.seed(RANDOM_SEED)\n",
    "\n",
    "# For best effect, points should not be drawn in sequence but in random order\n",
    "randomorder=np.random.permutation(np.arange(customers_pred.shape[0]))\n",
    "\n",
    "# Set colors\n",
    "colors=np.zeros((customers_pred.shape[0], 4))\n",
    "for cluster in range(k):\n",
    "    colors[customers_pred==cluster, :3] = np.random.rand(3) # make  points have random colors\n",
    "colors[:, 3] = 0.25 # make  points have opacity 0.25\n",
    "\n",
    "# Draw scatter plot\n",
    "fig = plt.figure(figsize=(8, 3))\n",
    "for i in range(2):\n",
    "    ax = fig.add_subplot(121+i, facecolor='black')\n",
    "    ax.scatter(customers_PCs[randomorder,0], customers_PCs[randomorder, i+1],s=5,linewidths=3,facecolors=colors[randomorder,:],marker=\"o\")\n",
    "    ax.set_aspect('equal')\n",
    "    ax.set_xlabel(\"PC1\"); ax.set_ylabel(\"PC{}\".format(i+2))\n",
    "    ax.set_ylim([-4, 5])\n",
    "    ax.set_title('PC Visualization')\n",
    "    ax.grid(True)"
   ]
  },
  {
   "cell_type": "markdown",
   "metadata": {},
   "source": [
    "We see that clusters can be well seperated as we gradually enter into **higher dimension**. Next, we can predict the general population based on our k-means model. But before that, we need to preprocess and transform population data into PCs **using pre-trained parameters**."
   ]
  },
  {
   "cell_type": "code",
   "execution_count": 32,
   "metadata": {
    "ExecuteTime": {
     "end_time": "2020-08-23T12:44:40.183484Z",
     "start_time": "2020-08-23T12:44:08.553247Z"
    },
    "scrolled": true
   },
   "outputs": [],
   "source": [
    "azdias_pca = azdias[pca_features]\n",
    "azdias_NonNegativeMin = np.where(azdias_pca<0, np.inf, azdias_pca).min(axis=0)\n",
    "azdias_pca = azdias_pca - azdias_NonNegativeMin\n",
    "\n",
    "azdias_scaled = ss_customers.transform(azdias_pca)\n",
    "azdias_PCs = pca.transform(azdias_scaled)[:, :num_PCs]"
   ]
  },
  {
   "cell_type": "markdown",
   "metadata": {},
   "source": [
    "Finally, we can make predictions and calculate the distances between individuals and their belongings to tell how likely it is true."
   ]
  },
  {
   "cell_type": "code",
   "execution_count": 33,
   "metadata": {
    "ExecuteTime": {
     "end_time": "2020-08-23T12:44:41.414310Z",
     "start_time": "2020-08-23T12:44:40.194468Z"
    }
   },
   "outputs": [],
   "source": [
    "azdias_cluster = kmeans.predict(azdias_PCs)\n",
    "\n",
    "azdias_dist = kmeans.transform(azdias_PCs).min(axis=1).round(3)\n",
    "azdias_dist_sorted = np.argsort(azdias_dist)"
   ]
  },
  {
   "cell_type": "markdown",
   "metadata": {},
   "source": [
    "As the minimal distances have a fairly large range, we need to set a reasonable threshold to make predictions. A natural choice is rmsd(root mean square distances) using customers clustering result. To be specific, we predict individuals less than **0.5 $\\times$ rmsd** away from their closest center as potential customers and people more than **1.5 $\\times$ rmsd** away as unlikely."
   ]
  },
  {
   "cell_type": "code",
   "execution_count": 34,
   "metadata": {
    "ExecuteTime": {
     "end_time": "2020-08-23T12:44:45.852947Z",
     "start_time": "2020-08-23T12:44:41.418678Z"
    },
    "scrolled": true
   },
   "outputs": [
    {
     "name": "stdout",
     "output_type": "stream",
     "text": [
      "prediction_threshold:3.005, number of potential customers:63288, number of unlikely customers:72270\n"
     ]
    }
   ],
   "source": [
    "rmsd_thresh = np.sqrt(kmeans.inertia_ / customers.shape[0])\n",
    "\n",
    "potential_customers = azdias[azdias_dist < 0.5 * rmsd_thresh]\n",
    "unlikely_customers = azdias[azdias_dist > 1.5 * rmsd_thresh]\n",
    "print('prediction_threshold:{thresh}, number of potential customers:{x1}, number of unlikely customers:{x2}'.format(\\\n",
    "                    thresh=round(rmsd_thresh,3), x1=potential_customers.shape[0], x2=unlikely_customers.shape[0]))"
   ]
  },
  {
   "cell_type": "markdown",
   "metadata": {},
   "source": [
    "We visualize our predictions to have a clear understanding."
   ]
  },
  {
   "cell_type": "code",
   "execution_count": 35,
   "metadata": {
    "ExecuteTime": {
     "end_time": "2020-08-23T12:44:46.248839Z",
     "start_time": "2020-08-23T12:44:45.857159Z"
    }
   },
   "outputs": [
    {
     "data": {
      "image/png": "[encoded data removed]",
      "text/plain": [
       "<Figure size 800x300 with 1 Axes>"
      ]
     },
     "metadata": {
      "needs_background": "light"
     },
     "output_type": "display_data"
    }
   ],
   "source": [
    "fig = plt.figure(figsize=(8, 3))\n",
    "ax = fig.add_subplot(111)\n",
    "ax.plot(azdias_dist[azdias_dist_sorted])\n",
    "ax.hlines([0.5 * rmsd_thresh, 1.5 * rmsd_thresh], 0, azdias_dist.shape[0], colors='r')\n",
    "ax.set_xlabel(\"population\"); ax.set_ylabel(\"min_distance\")\n",
    "ax.set_title('Distance between population and their closest customer cluster')\n",
    "ax.grid(True)"
   ]
  },
  {
   "cell_type": "markdown",
   "metadata": {},
   "source": [
    "Combining our cluster predictions and corresponding customers characteristics, we can have some anticipations about prospective customers. "
   ]
  },
  {
   "cell_type": "code",
   "execution_count": 36,
   "metadata": {
    "ExecuteTime": {
     "end_time": "2020-08-23T12:44:46.292048Z",
     "start_time": "2020-08-23T12:44:46.251255Z"
    }
   },
   "outputs": [
    {
     "data": {
      "text/html": [
       "<div>\n",
       "<style scoped>\n",
       "    .dataframe tbody tr th:only-of-type {\n",
       "        vertical-align: middle;\n",
       "    }\n",
       "\n",
       "    .dataframe tbody tr th {\n",
       "        vertical-align: top;\n",
       "    }\n",
       "\n",
       "    .dataframe thead th {\n",
       "        text-align: right;\n",
       "    }\n",
       "</style>\n",
       "<table border=\"1\" class=\"dataframe\">\n",
       "  <thead>\n",
       "    <tr style=\"text-align: right;\">\n",
       "      <th></th>\n",
       "      <th>Cluster</th>\n",
       "      <th>LNR</th>\n",
       "      <th>AGER_TYP</th>\n",
       "      <th>AKT_DAT_KL</th>\n",
       "      <th>ALTER_HH</th>\n",
       "      <th>ALTERSKATEGORIE_FEIN</th>\n",
       "      <th>ANZ_HAUSHALTE_AKTIV</th>\n",
       "      <th>ANZ_HH_TITEL</th>\n",
       "      <th>ANZ_KINDER</th>\n",
       "      <th>ANZ_PERSONEN</th>\n",
       "      <th>...</th>\n",
       "      <th>VHN</th>\n",
       "      <th>VK_DHT4A</th>\n",
       "      <th>VK_DISTANZ</th>\n",
       "      <th>VK_ZG11</th>\n",
       "      <th>W_KEIT_KIND_HH</th>\n",
       "      <th>WOHNDAUER_2008</th>\n",
       "      <th>WOHNLAGE</th>\n",
       "      <th>ZABEOTYP</th>\n",
       "      <th>ANREDE_KZ</th>\n",
       "      <th>ALTERSKATEGORIE_GROB</th>\n",
       "    </tr>\n",
       "  </thead>\n",
       "  <tbody>\n",
       "    <tr>\n",
       "      <th>0</th>\n",
       "      <td>1</td>\n",
       "      <td>910215</td>\n",
       "      <td>-1</td>\n",
       "      <td>-1.0</td>\n",
       "      <td>-1.0</td>\n",
       "      <td>-1.0</td>\n",
       "      <td>-1.0</td>\n",
       "      <td>-1.0</td>\n",
       "      <td>-1.0</td>\n",
       "      <td>-1.0</td>\n",
       "      <td>...</td>\n",
       "      <td>-1.0</td>\n",
       "      <td>-1.0</td>\n",
       "      <td>-1.0</td>\n",
       "      <td>-1.0</td>\n",
       "      <td>-1.0</td>\n",
       "      <td>-1.0</td>\n",
       "      <td>-1.0</td>\n",
       "      <td>3</td>\n",
       "      <td>1</td>\n",
       "      <td>2</td>\n",
       "    </tr>\n",
       "    <tr>\n",
       "      <th>11</th>\n",
       "      <td>1</td>\n",
       "      <td>645169</td>\n",
       "      <td>-1</td>\n",
       "      <td>-1.0</td>\n",
       "      <td>-1.0</td>\n",
       "      <td>-1.0</td>\n",
       "      <td>-1.0</td>\n",
       "      <td>-1.0</td>\n",
       "      <td>-1.0</td>\n",
       "      <td>-1.0</td>\n",
       "      <td>...</td>\n",
       "      <td>-1.0</td>\n",
       "      <td>-1.0</td>\n",
       "      <td>-1.0</td>\n",
       "      <td>-1.0</td>\n",
       "      <td>-1.0</td>\n",
       "      <td>-1.0</td>\n",
       "      <td>-1.0</td>\n",
       "      <td>3</td>\n",
       "      <td>1</td>\n",
       "      <td>2</td>\n",
       "    </tr>\n",
       "    <tr>\n",
       "      <th>14</th>\n",
       "      <td>1</td>\n",
       "      <td>612565</td>\n",
       "      <td>-1</td>\n",
       "      <td>-1.0</td>\n",
       "      <td>-1.0</td>\n",
       "      <td>-1.0</td>\n",
       "      <td>-1.0</td>\n",
       "      <td>-1.0</td>\n",
       "      <td>-1.0</td>\n",
       "      <td>-1.0</td>\n",
       "      <td>...</td>\n",
       "      <td>-1.0</td>\n",
       "      <td>-1.0</td>\n",
       "      <td>-1.0</td>\n",
       "      <td>-1.0</td>\n",
       "      <td>-1.0</td>\n",
       "      <td>-1.0</td>\n",
       "      <td>-1.0</td>\n",
       "      <td>3</td>\n",
       "      <td>1</td>\n",
       "      <td>3</td>\n",
       "    </tr>\n",
       "    <tr>\n",
       "      <th>17</th>\n",
       "      <td>1</td>\n",
       "      <td>612577</td>\n",
       "      <td>-1</td>\n",
       "      <td>-1.0</td>\n",
       "      <td>-1.0</td>\n",
       "      <td>-1.0</td>\n",
       "      <td>-1.0</td>\n",
       "      <td>-1.0</td>\n",
       "      <td>-1.0</td>\n",
       "      <td>-1.0</td>\n",
       "      <td>...</td>\n",
       "      <td>-1.0</td>\n",
       "      <td>-1.0</td>\n",
       "      <td>-1.0</td>\n",
       "      <td>-1.0</td>\n",
       "      <td>-1.0</td>\n",
       "      <td>-1.0</td>\n",
       "      <td>-1.0</td>\n",
       "      <td>3</td>\n",
       "      <td>1</td>\n",
       "      <td>2</td>\n",
       "    </tr>\n",
       "    <tr>\n",
       "      <th>24</th>\n",
       "      <td>1</td>\n",
       "      <td>703164</td>\n",
       "      <td>-1</td>\n",
       "      <td>-1.0</td>\n",
       "      <td>-1.0</td>\n",
       "      <td>-1.0</td>\n",
       "      <td>-1.0</td>\n",
       "      <td>-1.0</td>\n",
       "      <td>-1.0</td>\n",
       "      <td>-1.0</td>\n",
       "      <td>...</td>\n",
       "      <td>-1.0</td>\n",
       "      <td>-1.0</td>\n",
       "      <td>-1.0</td>\n",
       "      <td>-1.0</td>\n",
       "      <td>-1.0</td>\n",
       "      <td>-1.0</td>\n",
       "      <td>-1.0</td>\n",
       "      <td>3</td>\n",
       "      <td>2</td>\n",
       "      <td>3</td>\n",
       "    </tr>\n",
       "  </tbody>\n",
       "</table>\n",
       "<p>5 rows × 361 columns</p>\n",
       "</div>"
      ],
      "text/plain": [
       "    Cluster     LNR  AGER_TYP  AKT_DAT_KL  ALTER_HH  ALTERSKATEGORIE_FEIN  \\\n",
       "0         1  910215        -1        -1.0      -1.0                  -1.0   \n",
       "11        1  645169        -1        -1.0      -1.0                  -1.0   \n",
       "14        1  612565        -1        -1.0      -1.0                  -1.0   \n",
       "17        1  612577        -1        -1.0      -1.0                  -1.0   \n",
       "24        1  703164        -1        -1.0      -1.0                  -1.0   \n",
       "\n",
       "    ANZ_HAUSHALTE_AKTIV  ANZ_HH_TITEL  ANZ_KINDER  ANZ_PERSONEN  ...  VHN  \\\n",
       "0                  -1.0          -1.0        -1.0          -1.0  ... -1.0   \n",
       "11                 -1.0          -1.0        -1.0          -1.0  ... -1.0   \n",
       "14                 -1.0          -1.0        -1.0          -1.0  ... -1.0   \n",
       "17                 -1.0          -1.0        -1.0          -1.0  ... -1.0   \n",
       "24                 -1.0          -1.0        -1.0          -1.0  ... -1.0   \n",
       "\n",
       "    VK_DHT4A  VK_DISTANZ  VK_ZG11  W_KEIT_KIND_HH  WOHNDAUER_2008  WOHNLAGE  \\\n",
       "0       -1.0        -1.0     -1.0            -1.0            -1.0      -1.0   \n",
       "11      -1.0        -1.0     -1.0            -1.0            -1.0      -1.0   \n",
       "14      -1.0        -1.0     -1.0            -1.0            -1.0      -1.0   \n",
       "17      -1.0        -1.0     -1.0            -1.0            -1.0      -1.0   \n",
       "24      -1.0        -1.0     -1.0            -1.0            -1.0      -1.0   \n",
       "\n",
       "    ZABEOTYP  ANREDE_KZ  ALTERSKATEGORIE_GROB  \n",
       "0          3          1                     2  \n",
       "11         3          1                     2  \n",
       "14         3          1                     3  \n",
       "17         3          1                     2  \n",
       "24         3          2                     3  \n",
       "\n",
       "[5 rows x 361 columns]"
      ]
     },
     "execution_count": 36,
     "metadata": {},
     "output_type": "execute_result"
    }
   ],
   "source": [
    "potential_customers.insert(0, 'Cluster', azdias_cluster[azdias_dist < 0.5 * rmsd_thresh])\n",
    "potential_customers.head()"
   ]
  },
  {
   "cell_type": "code",
   "execution_count": 37,
   "metadata": {
    "ExecuteTime": {
     "end_time": "2020-08-23T12:44:46.323683Z",
     "start_time": "2020-08-23T12:44:46.294454Z"
    }
   },
   "outputs": [
    {
     "data": {
      "text/html": [
       "<div>\n",
       "<style scoped>\n",
       "    .dataframe tbody tr th:only-of-type {\n",
       "        vertical-align: middle;\n",
       "    }\n",
       "\n",
       "    .dataframe tbody tr th {\n",
       "        vertical-align: top;\n",
       "    }\n",
       "\n",
       "    .dataframe thead th {\n",
       "        text-align: right;\n",
       "    }\n",
       "</style>\n",
       "<table border=\"1\" class=\"dataframe\">\n",
       "  <thead>\n",
       "    <tr style=\"text-align: right;\">\n",
       "      <th></th>\n",
       "      <th>LNR</th>\n",
       "      <th>AGER_TYP</th>\n",
       "      <th>AKT_DAT_KL</th>\n",
       "      <th>ALTER_HH</th>\n",
       "      <th>ALTERSKATEGORIE_FEIN</th>\n",
       "      <th>ANZ_HAUSHALTE_AKTIV</th>\n",
       "      <th>ANZ_HH_TITEL</th>\n",
       "      <th>ANZ_KINDER</th>\n",
       "      <th>ANZ_PERSONEN</th>\n",
       "      <th>ANZ_STATISTISCHE_HAUSHALTE</th>\n",
       "      <th>...</th>\n",
       "      <th>VHN</th>\n",
       "      <th>VK_DHT4A</th>\n",
       "      <th>VK_DISTANZ</th>\n",
       "      <th>VK_ZG11</th>\n",
       "      <th>W_KEIT_KIND_HH</th>\n",
       "      <th>WOHNDAUER_2008</th>\n",
       "      <th>WOHNLAGE</th>\n",
       "      <th>ZABEOTYP</th>\n",
       "      <th>ANREDE_KZ</th>\n",
       "      <th>ALTERSKATEGORIE_GROB</th>\n",
       "    </tr>\n",
       "  </thead>\n",
       "  <tbody>\n",
       "    <tr>\n",
       "      <th>9</th>\n",
       "      <td>645153</td>\n",
       "      <td>-1</td>\n",
       "      <td>5.0</td>\n",
       "      <td>17.0</td>\n",
       "      <td>17.0</td>\n",
       "      <td>9.0</td>\n",
       "      <td>0.0</td>\n",
       "      <td>0.0</td>\n",
       "      <td>1.0</td>\n",
       "      <td>7.0</td>\n",
       "      <td>...</td>\n",
       "      <td>4.0</td>\n",
       "      <td>1.0</td>\n",
       "      <td>1.0</td>\n",
       "      <td>1.0</td>\n",
       "      <td>4.0</td>\n",
       "      <td>3.0</td>\n",
       "      <td>7.0</td>\n",
       "      <td>4</td>\n",
       "      <td>2</td>\n",
       "      <td>3</td>\n",
       "    </tr>\n",
       "    <tr>\n",
       "      <th>13</th>\n",
       "      <td>612561</td>\n",
       "      <td>-1</td>\n",
       "      <td>8.0</td>\n",
       "      <td>20.0</td>\n",
       "      <td>20.0</td>\n",
       "      <td>2.0</td>\n",
       "      <td>0.0</td>\n",
       "      <td>0.0</td>\n",
       "      <td>1.0</td>\n",
       "      <td>2.0</td>\n",
       "      <td>...</td>\n",
       "      <td>-1.0</td>\n",
       "      <td>3.0</td>\n",
       "      <td>6.0</td>\n",
       "      <td>8.0</td>\n",
       "      <td>6.0</td>\n",
       "      <td>3.0</td>\n",
       "      <td>5.0</td>\n",
       "      <td>5</td>\n",
       "      <td>2</td>\n",
       "      <td>1</td>\n",
       "    </tr>\n",
       "    <tr>\n",
       "      <th>15</th>\n",
       "      <td>612569</td>\n",
       "      <td>1</td>\n",
       "      <td>9.0</td>\n",
       "      <td>11.0</td>\n",
       "      <td>11.0</td>\n",
       "      <td>1.0</td>\n",
       "      <td>0.0</td>\n",
       "      <td>0.0</td>\n",
       "      <td>1.0</td>\n",
       "      <td>1.0</td>\n",
       "      <td>...</td>\n",
       "      <td>4.0</td>\n",
       "      <td>6.0</td>\n",
       "      <td>6.0</td>\n",
       "      <td>3.0</td>\n",
       "      <td>6.0</td>\n",
       "      <td>4.0</td>\n",
       "      <td>3.0</td>\n",
       "      <td>3</td>\n",
       "      <td>2</td>\n",
       "      <td>4</td>\n",
       "    </tr>\n",
       "    <tr>\n",
       "      <th>20</th>\n",
       "      <td>612594</td>\n",
       "      <td>-1</td>\n",
       "      <td>7.0</td>\n",
       "      <td>0.0</td>\n",
       "      <td>-1.0</td>\n",
       "      <td>1.0</td>\n",
       "      <td>0.0</td>\n",
       "      <td>0.0</td>\n",
       "      <td>1.0</td>\n",
       "      <td>1.0</td>\n",
       "      <td>...</td>\n",
       "      <td>-1.0</td>\n",
       "      <td>8.0</td>\n",
       "      <td>11.0</td>\n",
       "      <td>10.0</td>\n",
       "      <td>3.0</td>\n",
       "      <td>4.0</td>\n",
       "      <td>5.0</td>\n",
       "      <td>3</td>\n",
       "      <td>2</td>\n",
       "      <td>2</td>\n",
       "    </tr>\n",
       "    <tr>\n",
       "      <th>23</th>\n",
       "      <td>612609</td>\n",
       "      <td>-1</td>\n",
       "      <td>6.0</td>\n",
       "      <td>16.0</td>\n",
       "      <td>-1.0</td>\n",
       "      <td>1.0</td>\n",
       "      <td>0.0</td>\n",
       "      <td>0.0</td>\n",
       "      <td>2.0</td>\n",
       "      <td>1.0</td>\n",
       "      <td>...</td>\n",
       "      <td>2.0</td>\n",
       "      <td>3.0</td>\n",
       "      <td>6.0</td>\n",
       "      <td>8.0</td>\n",
       "      <td>3.0</td>\n",
       "      <td>2.0</td>\n",
       "      <td>3.0</td>\n",
       "      <td>4</td>\n",
       "      <td>1</td>\n",
       "      <td>3</td>\n",
       "    </tr>\n",
       "  </tbody>\n",
       "</table>\n",
       "<p>5 rows × 360 columns</p>\n",
       "</div>"
      ],
      "text/plain": [
       "       LNR  AGER_TYP  AKT_DAT_KL  ALTER_HH  ALTERSKATEGORIE_FEIN  \\\n",
       "9   645153        -1         5.0      17.0                  17.0   \n",
       "13  612561        -1         8.0      20.0                  20.0   \n",
       "15  612569         1         9.0      11.0                  11.0   \n",
       "20  612594        -1         7.0       0.0                  -1.0   \n",
       "23  612609        -1         6.0      16.0                  -1.0   \n",
       "\n",
       "    ANZ_HAUSHALTE_AKTIV  ANZ_HH_TITEL  ANZ_KINDER  ANZ_PERSONEN  \\\n",
       "9                   9.0           0.0         0.0           1.0   \n",
       "13                  2.0           0.0         0.0           1.0   \n",
       "15                  1.0           0.0         0.0           1.0   \n",
       "20                  1.0           0.0         0.0           1.0   \n",
       "23                  1.0           0.0         0.0           2.0   \n",
       "\n",
       "    ANZ_STATISTISCHE_HAUSHALTE  ...  VHN  VK_DHT4A  VK_DISTANZ  VK_ZG11  \\\n",
       "9                          7.0  ...  4.0       1.0         1.0      1.0   \n",
       "13                         2.0  ... -1.0       3.0         6.0      8.0   \n",
       "15                         1.0  ...  4.0       6.0         6.0      3.0   \n",
       "20                         1.0  ... -1.0       8.0        11.0     10.0   \n",
       "23                         1.0  ...  2.0       3.0         6.0      8.0   \n",
       "\n",
       "    W_KEIT_KIND_HH  WOHNDAUER_2008  WOHNLAGE  ZABEOTYP  ANREDE_KZ  \\\n",
       "9              4.0             3.0       7.0         4          2   \n",
       "13             6.0             3.0       5.0         5          2   \n",
       "15             6.0             4.0       3.0         3          2   \n",
       "20             3.0             4.0       5.0         3          2   \n",
       "23             3.0             2.0       3.0         4          1   \n",
       "\n",
       "    ALTERSKATEGORIE_GROB  \n",
       "9                      3  \n",
       "13                     1  \n",
       "15                     4  \n",
       "20                     2  \n",
       "23                     3  \n",
       "\n",
       "[5 rows x 360 columns]"
      ]
     },
     "execution_count": 37,
     "metadata": {},
     "output_type": "execute_result"
    }
   ],
   "source": [
    "unlikely_customers.head()"
   ]
  },
  {
   "cell_type": "markdown",
   "metadata": {},
   "source": [
    "## Part 2: Supervised Learning Model\n",
    "\n",
    "Now that you've found which parts of the population are more likely to be customers of the mail-order company, it's time to build a prediction model. Each of the rows in the \"MAILOUT\" data files represents an individual that was targeted for a mailout campaign. Ideally, we should be able to use the demographic information from each individual to decide whether or not it will be worth it to include that person in the campaign.\n",
    "\n",
    "The \"MAILOUT\" data has been split into two approximately equal parts, each with almost 43 000 data rows. In this part, you can verify your model with the \"TRAIN\" partition, which includes a column, \"RESPONSE\", that states whether or not a person became a customer of the company following the campaign. In the next part, you'll need to create predictions on the \"TEST\" partition, where the \"RESPONSE\" column has been withheld."
   ]
  },
  {
   "cell_type": "markdown",
   "metadata": {
    "ExecuteTime": {
     "end_time": "2020-08-02T01:38:23.518956Z",
     "start_time": "2020-08-02T01:38:23.514899Z"
    }
   },
   "source": [
    "### First, we preprocess data and select appropriate evaluation metrics."
   ]
  },
  {
   "cell_type": "code",
   "execution_count": 38,
   "metadata": {
    "ExecuteTime": {
     "end_time": "2020-08-23T12:44:48.235748Z",
     "start_time": "2020-08-23T12:44:46.325423Z"
    }
   },
   "outputs": [
    {
     "data": {
      "image/png": "[encoded data removed]",
      "text/plain": [
       "<Figure size 800x300 with 1 Axes>"
      ]
     },
     "metadata": {
      "needs_background": "light"
     },
     "output_type": "display_data"
    }
   ],
   "source": [
    "mailout_train = pd.read_csv(os.path.join(os.getcwd(), 'mailout_train.csv'), sep=';')\n",
    "plt.figure(figsize=(8,3))\n",
    "plt.hist(mailout_train['RESPONSE'])\n",
    "_ = plt.title('Class Distribution')"
   ]
  },
  {
   "cell_type": "code",
   "execution_count": 39,
   "metadata": {
    "ExecuteTime": {
     "end_time": "2020-08-23T12:44:49.126294Z",
     "start_time": "2020-08-23T12:44:48.238090Z"
    }
   },
   "outputs": [],
   "source": [
    "mailout_train  = azdias_data_preprocessing(mailout_train)\n",
    "assert((mailout_train.shape[1] - 1) == (customers.shape[1] - 3))"
   ]
  },
  {
   "cell_type": "markdown",
   "metadata": {
    "ExecuteTime": {
     "end_time": "2020-08-02T01:38:23.518956Z",
     "start_time": "2020-08-02T01:38:23.514899Z"
    }
   },
   "source": [
    "Then, we calculate minimal distances between individuals and their closest customer cluster and add this new feature to their demographic info data set. "
   ]
  },
  {
   "cell_type": "code",
   "execution_count": 40,
   "metadata": {
    "ExecuteTime": {
     "end_time": "2020-08-23T12:44:50.019721Z",
     "start_time": "2020-08-23T12:44:49.128139Z"
    }
   },
   "outputs": [],
   "source": [
    "from sklearn.preprocessing import MinMaxScaler\n",
    "mailout_train_pca = mailout_train[pca_features]\n",
    "mailout_train_NonNegativeMin = np.where(mailout_train_pca<0, np.inf, mailout_train_pca).min(axis=0)\n",
    "mailout_train_pca = mailout_train_pca - mailout_train_NonNegativeMin\n",
    "\n",
    "ss_mailout_train = MinMaxScaler()\n",
    "mailout_train_scaled = ss_mailout_train.fit_transform(mailout_train_pca)\n",
    "mailout_train_PCs = pca.transform(mailout_train_scaled)[:, :num_PCs]\n",
    "mailout_train_dist = kmeans.transform(mailout_train_PCs).min(axis=1).round(3)\n",
    "\n",
    "mailout_train['CLUSTER_DIST'] = mailout_train_dist"
   ]
  },
  {
   "cell_type": "markdown",
   "metadata": {},
   "source": [
    "Now, we can seperate the whole data to X, all features but \"LNP\" and \"RESPONSE\" and y, targeted people's response."
   ]
  },
  {
   "cell_type": "code",
   "execution_count": 41,
   "metadata": {
    "ExecuteTime": {
     "end_time": "2020-08-23T12:44:50.234463Z",
     "start_time": "2020-08-23T12:44:50.021951Z"
    }
   },
   "outputs": [],
   "source": [
    "X, y = mailout_train.drop(columns=['LNR', 'RESPONSE']).values, mailout_train['RESPONSE'].values"
   ]
  },
  {
   "cell_type": "markdown",
   "metadata": {},
   "source": [
    "Before directly researching on all features, we first carry out feature selection."
   ]
  },
  {
   "cell_type": "code",
   "execution_count": 42,
   "metadata": {
    "ExecuteTime": {
     "end_time": "2020-08-23T12:44:50.240921Z",
     "start_time": "2020-08-23T12:44:50.236528Z"
    }
   },
   "outputs": [
    {
     "data": {
      "text/plain": [
       "0.012383036171500396"
      ]
     },
     "execution_count": 42,
     "metadata": {},
     "output_type": "execute_result"
    }
   ],
   "source": [
    "y.mean()"
   ]
  },
  {
   "cell_type": "markdown",
   "metadata": {},
   "source": [
    "We notice the imbalance is extremely serious that only about 1% labels are positive. In this situation, directly using accuracy would be **misleading**  because we can naively make all outputs to be 0 and achieve nearly 99% accuracy but this is useless. Thus, we should think about ways to remedy:\n",
    "1. **F1-score**: F1-socre combines precision and recall together. Recall represents our ability to identify potential customers, which is the main purpose of our model, while precision decides how likely we won't end up wasting our time and bothering people to further alienate them.\n",
    "2. **AUC metric**: AUC is less sensitive to class imbalance. It doesn't set a hard threshold but forces classifier to generate a distinct decision boundary, i.e., higher values for positive labels.\n",
    "3. **Balanced weights**: We can make cost function more sensitive to positive classes by assigning to them more weight because they are what interests us and deserve more attention.\n",
    "4. **Undersampling**: Sample from majority class to make problem balanced, but this is dangerous since it loses a lot of information.\n",
    "5. **Oversampleing**: Sample from minority class to make problem balanced, this could be promising but also at risk of overfitting handy data.\n",
    "6. **Undersampling + Ensemble**: This is an advanced realization of # 3, which undersamples from majority class and trains a classifier each time until looking through all data, then we ensemble all the models by considering their votes with equal weights to make predictions.\n",
    "7. **Undersampling + Oversampleing + Ensemble**: In # 5, each \"sub-dataset\" is very small, making data distribution too skewed to learn, so we combine # 4 together by dividing/undersampling majority data into N splits, oversampling from minority class to achieved balance, training models and finally doing ensembles."
   ]
  },
  {
   "cell_type": "markdown",
   "metadata": {},
   "source": [
    "### Instead of directly researching on all features, we do feature selection to choose the suitable ones."
   ]
  },
  {
   "cell_type": "code",
   "execution_count": 43,
   "metadata": {
    "ExecuteTime": {
     "end_time": "2020-08-23T12:44:50.599149Z",
     "start_time": "2020-08-23T12:44:50.242506Z"
    }
   },
   "outputs": [],
   "source": [
    "\"\"\" \n",
    "    We check pearson correlation although our feartures are mostly categorical, for example:\n",
    "    \n",
    "    1. np.corrcoef(np.arange(6), np.array([-1,0,2,3,5,11]))[0, 1]  --> 0.94\n",
    "    2. spearmanr(np.arange(6), np.array([-1,0,2,3,5,11]))[0]  --> 1.0\n",
    "    \n",
    "    Pearson corrleation also considers the variance information which is important. Then, we\n",
    "reject the pairs with correlation > 0.9 and keep the one with largest variance.\n",
    "    \n",
    "    However, we need to make different features comparable, so we subtract the non-negative\n",
    "parts by its minimum. For example, [-1,2000,2002,2003] --> [-1,0,2,3] so that \"-1\" will still\n",
    "represent the missing value, but the magnitude is scaled to right. \n",
    "\"\"\"\n",
    "\n",
    "NonNegativeMin = np.where(X<0, np.inf, X).min(axis=0)\n",
    "X = X - NonNegativeMin\n",
    "\n",
    "rhos = np.corrcoef(X, rowvar=False)\n",
    "variances = X.var(axis=0)\n",
    "\n",
    "corr_thresh = 0.90\n",
    "feature_kept = []\n",
    "for i in range(X.shape[1]):\n",
    "        colinearity_loc = np.where(np.abs(rhos[:, i]) > corr_thresh)[0]\n",
    "        self_var = variances[i]\n",
    "        competitors_var = variances[colinearity_loc]\n",
    "        ## we keep this feature if no other one is significantly correlated with it or it has the largest variance.\n",
    "        if competitors_var.shape[0] == 0 or self_var >= np.max(competitors_var):\n",
    "            feature_kept.append(i)\n",
    "feature_kept = np.array(feature_kept)"
   ]
  },
  {
   "cell_type": "code",
   "execution_count": 44,
   "metadata": {
    "ExecuteTime": {
     "end_time": "2020-08-23T12:44:50.626873Z",
     "start_time": "2020-08-23T12:44:50.601427Z"
    },
    "scrolled": true
   },
   "outputs": [
    {
     "name": "stdout",
     "output_type": "stream",
     "text": [
      "(42962, 360)\n",
      "(42962, 278)\n"
     ]
    }
   ],
   "source": [
    "print(X.shape)\n",
    "X = X[:, feature_kept]\n",
    "print(X.shape)"
   ]
  },
  {
   "cell_type": "markdown",
   "metadata": {},
   "source": [
    "Next, we apply RandomForest Classifier for doing an embedded feature selection by setting max_feature = 1, i.e., selecting a single feature each time to observe its capacity to decrease the objective function.\n",
    "\n",
    "(Note that this is am **in-sample(IS)** method.)"
   ]
  },
  {
   "cell_type": "code",
   "execution_count": 45,
   "metadata": {
    "ExecuteTime": {
     "end_time": "2020-08-23T12:44:56.478089Z",
     "start_time": "2020-08-23T12:44:50.628472Z"
    }
   },
   "outputs": [
    {
     "data": {
      "text/plain": [
       "RandomForestClassifier(bootstrap=True, ccp_alpha=0.0, class_weight=None,\n",
       "                       criterion='gini', max_depth=None, max_features=1,\n",
       "                       max_leaf_nodes=None, max_samples=None,\n",
       "                       min_impurity_decrease=0.0, min_impurity_split=None,\n",
       "                       min_samples_leaf=1, min_samples_split=2,\n",
       "                       min_weight_fraction_leaf=0.0, n_estimators=556, n_jobs=4,\n",
       "                       oob_score=False, random_state=2020, verbose=0,\n",
       "                       warm_start=False)"
      ]
     },
     "execution_count": 45,
     "metadata": {},
     "output_type": "execute_result"
    }
   ],
   "source": [
    "from sklearn.ensemble import RandomForestClassifier\n",
    "rfc = RandomForestClassifier(n_estimators=2*X.shape[1], max_features=1, random_state=RANDOM_SEED, n_jobs=4)\n",
    "rfc.fit(X, y)"
   ]
  },
  {
   "cell_type": "code",
   "execution_count": 46,
   "metadata": {
    "ExecuteTime": {
     "end_time": "2020-08-23T12:44:57.281129Z",
     "start_time": "2020-08-23T12:44:56.480559Z"
    }
   },
   "outputs": [
    {
     "data": {
      "image/png": "[encoded data removed]",
      "text/plain": [
       "<Figure size 1000x300 with 2 Axes>"
      ]
     },
     "metadata": {
      "needs_background": "light"
     },
     "output_type": "display_data"
    }
   ],
   "source": [
    "feature_imp = rfc.feature_importances_\n",
    "imp_argsort = np.argsort(feature_imp)[::-1]\n",
    "num_feature = feature_imp.shape[0]\n",
    "\n",
    "fig = plt.figure(figsize=(10, 3))\n",
    "ax = fig.add_subplot(121)\n",
    "ax.plot(np.arange(0,1,1/num_feature), feature_imp[imp_argsort].cumsum())\n",
    "ax.set_xlabel(\"Percentage of Number of Features\")\n",
    "ax.set_title('Cumulative Feature Importance')\n",
    "ax.grid()\n",
    "\n",
    "ax = fig.add_subplot(122)\n",
    "ax.plot(np.arange(0,1,1/num_feature), feature_imp[imp_argsort])\n",
    "ax.set_xlabel(\"Percentage of Number of Features\")\n",
    "ax.set_title('Sorted Individual Feature Importance')\n",
    "_ = ax.grid()"
   ]
  },
  {
   "cell_type": "markdown",
   "metadata": {},
   "source": [
    "We observe that umulative feature importances are roughly linearly increasing, but this trend stops at **90%** features, so we drop those unuseful ones."
   ]
  },
  {
   "cell_type": "code",
   "execution_count": 47,
   "metadata": {
    "ExecuteTime": {
     "end_time": "2020-08-23T12:44:57.350208Z",
     "start_time": "2020-08-23T12:44:57.283320Z"
    }
   },
   "outputs": [
    {
     "name": "stdout",
     "output_type": "stream",
     "text": [
      "(42962, 278)\n",
      "(42962, 250)\n"
     ]
    }
   ],
   "source": [
    "print(X.shape)\n",
    "feature_kept = imp_argsort[:int(0.9*imp_argsort.shape[0])]\n",
    "X = X[:, feature_kept]\n",
    "print(X.shape)"
   ]
  },
  {
   "cell_type": "markdown",
   "metadata": {},
   "source": [
    "Finally, because the responses in test data are unknown, we randomly extract a dataset **only for evaluation purpose**. \n",
    "* When assigning weights, we **ignore the evaluation set** since future data is very likely imbalanced as well, we don't want our artificial manipulations to have any impact on the evaluation result.\n",
    "* Since our models mostly use regularization for avoiding overfitting, we **scale** our data to make each feature comparable in magnitude.\n",
    "\n",
    "(By the way, at this moment our preprocessing is rough because cross-validate set should not be included in standardization, we do this **just for simplicity**.)"
   ]
  },
  {
   "cell_type": "code",
   "execution_count": 48,
   "metadata": {
    "ExecuteTime": {
     "end_time": "2020-08-23T12:44:57.687376Z",
     "start_time": "2020-08-23T12:44:57.352356Z"
    }
   },
   "outputs": [],
   "source": [
    "\"\"\" We again fix the random seed to make results from different models comparable and reproducible. \"\"\"\n",
    "from sklearn.model_selection import train_test_split\n",
    "neval = X.shape[0] // 5\n",
    "X_train, X_eval, y_train, y_eval = train_test_split(X, y, test_size=neval, shuffle=True, random_state=RANDOM_SEED)\n",
    "\n",
    "n_major, n_minor, n_all = (y_train == 0).sum(), (y_train == 1).sum(), y_train.shape[0]\n",
    "weights_train = np.where(y_train == 1, n_all / n_minor, n_all / n_major)\n",
    "\n",
    "from sklearn.preprocessing import MinMaxScaler\n",
    "ss_X_train = MinMaxScaler().fit(X_train)\n",
    "X_train, X_eval = ss_X_train.transform(X_train), ss_X_train.transform(X_eval)"
   ]
  },
  {
   "cell_type": "markdown",
   "metadata": {},
   "source": [
    "Here, we define a customized function wraping metrics mentioned above to report and visulize model performance for a comprehensive evaluation."
   ]
  },
  {
   "cell_type": "code",
   "execution_count": 49,
   "metadata": {
    "ExecuteTime": {
     "end_time": "2020-08-23T12:44:57.705403Z",
     "start_time": "2020-08-23T12:44:57.689617Z"
    },
    "code_folding": [
     0
    ]
   },
   "outputs": [],
   "source": [
    "def ensemble_proba(ensemble:list, X, y):\n",
    "    import xgboost as xgb\n",
    "    \n",
    "    ## calculate prediction probability of each classifier and ensemble them using average\n",
    "    pred = [clf.predict(xgb.DMatrix(X, y)) if isinstance(clf, xgb.Booster)\n",
    "                   else clf.predict_proba(X)[:,1] if hasattr(clf, 'predict_proba')\n",
    "                   else 1/(1+np.exp(-clf.decision_function(X))) if hasattr(clf, 'decision_function')\n",
    "                   else clf.predict(X) for clf in ensemble]\n",
    "    return np.vstack([pred]).mean(axis=0)\n",
    "    \n",
    "def print_report(ensemble:list, X_train, X_val, y_train, y_val, thresh=0.5, labels = ['Not Response', 'Response']):\n",
    "    \"\"\"\n",
    "    Prints a classification report on both validation and training set.\n",
    "    \n",
    "    (1) Metrics include AUC, F1, Precision, Recall and Confusion Matrix.\n",
    "    (2) Input \"ensemble\" accepts both single classifiers and ensembles.\n",
    "    (3) Results are dependent on the probability threshold \"thresh\".\n",
    "    \"\"\"\n",
    "    results = {}\n",
    "    y_train_proba, y_val_proba = ensemble_proba(ensemble, X_train, y_train), ensemble_proba(ensemble, X_val, y_val)\n",
    "    y_train_pred, y_val_pred = np.where(y_train_proba >= thresh, 1, 0), np.where(y_val_proba >= thresh, 1, 0)\n",
    "    results.update(train={'proba':y_train_proba,'pred':y_train_pred},\n",
    "                           val={'proba':y_val_proba, 'pred':y_val_pred})\n",
    "    \n",
    "    from sklearn.metrics import roc_auc_score, f1_score, recall_score, precision_score, confusion_matrix\n",
    "    print('\\t\\t\\t        Train: AUC: {x1}, F1: {x2}, Recall:{x3}, Precision:{x4}'.format(x1=round(roc_auc_score(y_train, y_train_proba),3),\\\n",
    "                x2=round(f1_score(y_train, y_train_pred), 3),  x3=round(recall_score(y_train, y_train_pred), 3), x4=round(precision_score(y_train, y_train_pred), 3)))\n",
    "    \n",
    "    print('\\t\\t\\tValidation: AUC: {x1}, F1: {x2}, Recall:{x3}, Precision:{x4}'.format(x1=round(roc_auc_score(y_val, y_val_proba),3),\\\n",
    "                x2=round(f1_score(y_val, y_val_pred), 3),  x3=round(recall_score(y_val, y_val_pred), 3), x4=round(precision_score(y_val, y_val_pred), 3)))\n",
    "    \n",
    "    cm_val = confusion_matrix(y_val, y_val_pred)\n",
    "    import seaborn as sns\n",
    "    fig, ax = plt.subplots(1, 1, figsize=(8, 3))\n",
    "    sns.heatmap(cm_val, annot=True, fmt=\"d\", xticklabels=labels, yticklabels=labels, cmap=plt.cm.Blues, ax=ax)\n",
    "    ax.set_title('Confusion matrix on evaluation set'); ax.set_ylabel('True'); ax.set_xlabel('Predict')\n",
    "    return results"
   ]
  },
  {
   "cell_type": "markdown",
   "metadata": {},
   "source": [
    "### Next, we compare candidate models and select the most promising one to be further improved. "
   ]
  },
  {
   "cell_type": "markdown",
   "metadata": {},
   "source": [
    "Before we start, a **benchmark** should be set to help understand how our candidates perform. Given that there are about 1.23% positive labels, as accuracy is no longer an impartial metric, we should expect classifiers to give recall and precision at least at 1.23% to be unusual. Otherwise, blindly making positive predictions works better. "
   ]
  },
  {
   "cell_type": "markdown",
   "metadata": {},
   "source": [
    "1. First, we check out how logistic regression works in this situation, this simplest classifier gives a **benchmark** to weigh the performance of other sophisticated models."
   ]
  },
  {
   "cell_type": "code",
   "execution_count": 50,
   "metadata": {
    "ExecuteTime": {
     "end_time": "2020-08-23T12:44:57.718288Z",
     "start_time": "2020-08-23T12:44:57.707764Z"
    },
    "code_folding": []
   },
   "outputs": [],
   "source": [
    "\"\"\" \n",
    "    To remain validation set unchanged for maintaining the reality and to resample without replacement\n",
    "for fully utlizing information, we customize a cross-validation spliter here. \n",
    "    Also, we fix the random seed to make results from different models comparable and reproducible.\n",
    "\"\"\"\n",
    "\n",
    "def MyStratifiedCV(X, y, n_splits, seed=RANDOM_SEED):\n",
    "    \"\"\" \n",
    "        We make a stratified CV split without replacement so that each split has similar data strucutre and thus\n",
    "    can be equally weighted when voting for choosing hyper-parameter.\n",
    "    \"\"\"\n",
    "    if n_splits == 1: ## when we're training models on the entire data set for prediction\n",
    "        yield (np.arange(y.shape[0]), [])\n",
    "    else: ## when we're doing cross-validation for hyper-parameter tuning\n",
    "        np.random.seed(seed)\n",
    "        ## Now we make each split have strictly stratified data, i.e., their classes imbalance levels should be same.\n",
    "        major_idx = np.where(y == 0)[0]\n",
    "        MajorRandomSamples = np.random.choice(major_idx, size=(n_splits, len(major_idx)//n_splits), replace=False)\n",
    "        leftout_idx1 = np.array(list(set(major_idx) - set(MajorRandomSamples.ravel()))).astype(int) ## idx not sampled\n",
    "        \n",
    "        minor_idx = np.where(y == 1)[0]\n",
    "        MinorRandomSamples = np.random.choice(minor_idx, size=(n_splits, len(minor_idx)//n_splits), replace=False)\n",
    "        leftout_idx2 = np.array(list(set(minor_idx) - set(MinorRandomSamples.ravel()))).astype(int) ## idx not sampled\n",
    "        for i in range(n_splits):\n",
    "            val_idx = np.hstack([MajorRandomSamples[i], MinorRandomSamples[i]])\n",
    "            if i == 0:\n",
    "                val_idx = np.hstack([val_idx, leftout_idx1, leftout_idx2])\n",
    "            train_idx = np.array(list(set(np.arange(y.shape[0])) - set(val_idx)))\n",
    "            yield (train_idx, val_idx)"
   ]
  },
  {
   "cell_type": "code",
   "execution_count": 51,
   "metadata": {
    "ExecuteTime": {
     "end_time": "2020-08-23T12:44:57.821247Z",
     "start_time": "2020-08-23T12:44:57.721164Z"
    }
   },
   "outputs": [
    {
     "name": "stdout",
     "output_type": "stream",
     "text": [
      "(34370, 250)\n"
     ]
    }
   ],
   "source": [
    "print(X_train.shape)\n",
    "\n",
    "## The size of training is dividable by 7, so we will use 7-fold cross-validation along this project.\n",
    "n_splits = 7\n",
    "my_cv_weighted = list(MyStratifiedCV(X_train, y_train, n_splits))"
   ]
  },
  {
   "cell_type": "code",
   "execution_count": 52,
   "metadata": {
    "ExecuteTime": {
     "end_time": "2020-08-23T12:44:57.829969Z",
     "start_time": "2020-08-23T12:44:57.823477Z"
    },
    "code_folding": [
     2
    ]
   },
   "outputs": [],
   "source": [
    "from sklearn.linear_model import LogisticRegression\n",
    "from sklearn.model_selection import RandomizedSearchCV\n",
    "def lr_HyperParamTuning(CVspliter, X, y, seed=RANDOM_SEED, class_weight=None):\n",
    "    \"\"\" \n",
    "        A rought hyper-parameter tuning process for SVC using random girdsearch.\n",
    "    The main purpose is to more efficiently determine the way to overcome class imbalance.\n",
    "    \"\"\"\n",
    "    lr_param_dist = {'C': np.logspace(-2,2,10),\n",
    "                        'random_state': [seed]}\n",
    "    lr_rscv_params = {'n_iter':10,\n",
    "                      'cv':CVspliter,\n",
    "                      'scoring':'roc_auc',\n",
    "                      'random_state':seed, \n",
    "                      'n_jobs': 4}\n",
    "    start = time.time()\n",
    "    lr_rscv = RandomizedSearchCV(LogisticRegression(class_weight=class_weight), lr_param_dist, **lr_rscv_params).fit(X, y)\n",
    "    print(\"best logistic regression params:{}\".format(lr_rscv.best_params_))\n",
    "    print(\"\\t\\t\\t        Time:{cost}s\".format(cost=round(time.time()-start,3)))\n",
    "    return lr_rscv"
   ]
  },
  {
   "cell_type": "code",
   "execution_count": 53,
   "metadata": {
    "ExecuteTime": {
     "end_time": "2020-08-23T12:45:58.074421Z",
     "start_time": "2020-08-23T12:44:57.832571Z"
    }
   },
   "outputs": [
    {
     "name": "stdout",
     "output_type": "stream",
     "text": [
      "best logistic regression params:{'random_state': 2020, 'C': 0.01}\n",
      "\t\t\t        Time:59.542s\n",
      "\t\t\t        Train: AUC: 0.782, F1: 0.055, Recall:0.744, Precision:0.028\n",
      "\t\t\tValidation: AUC: 0.686, F1: 0.041, Recall:0.583, Precision:0.021\n"
     ]
    },
    {
     "data": {
      "image/png": "[encoded data removed]",
      "text/plain": [
       "<Figure size 800x300 with 2 Axes>"
      ]
     },
     "metadata": {
      "needs_background": "light"
     },
     "output_type": "display_data"
    }
   ],
   "source": [
    "lr_rscv_weighted = lr_HyperParamTuning(my_cv_weighted, X_train, y_train, class_weight='balanced')\n",
    "lr_model_weighted = lr_rscv_weighted.best_estimator_\n",
    "_ = print_report([lr_model_weighted], X_train, X_eval, y_train, y_eval)"
   ]
  },
  {
   "cell_type": "markdown",
   "metadata": {},
   "source": [
    "Our benchmark model assigns the imbalance ratio of two classes as weight to the minority class, uses AUC as metric, and finally gets AUC=0.769 and F1=0.096 on the validation set. And from confusion matrix we know that the precision is poor."
   ]
  },
  {
   "cell_type": "markdown",
   "metadata": {},
   "source": [
    "2. Next, we try SVC and see how it performs."
   ]
  },
  {
   "cell_type": "code",
   "execution_count": 54,
   "metadata": {
    "ExecuteTime": {
     "end_time": "2020-08-23T12:45:58.082654Z",
     "start_time": "2020-08-23T12:45:58.077386Z"
    },
    "code_folding": [
     1
    ]
   },
   "outputs": [],
   "source": [
    "from sklearn.svm import LinearSVC\n",
    "def svc_HyperParamTuning(CVspliter, X, y, seed=RANDOM_SEED, class_weight=None):\n",
    "    \"\"\" \n",
    "        A rought hyper-parameter tuning process for SVC using random girdsearch.\n",
    "    The main purpose is to more efficiently determine the way to overcome class imbalance.\n",
    "    \"\"\"\n",
    "    svc_param_dist={ 'C': np.logspace(-2, 2, 10)}\n",
    "    svc_rscv_params={'n_iter':10,\n",
    "                        'cv':CVspliter,\n",
    "                        'scoring':'roc_auc',\n",
    "                        'random_state':seed,\n",
    "                        'n_jobs': 4}\n",
    "    start = time.time()\n",
    "    svc_rscv = RandomizedSearchCV(LinearSVC(class_weight=class_weight), svc_param_dist, **svc_rscv_params).fit(X, y)\n",
    "    \n",
    "    print(\"best svc params:{}\".format(svc_rscv.best_params_))\n",
    "    print(\"\\t\\t\\t        Time:{cost}s\".format(cost=round(time.time()-start,3)))\n",
    "    return svc_rscv"
   ]
  },
  {
   "cell_type": "code",
   "execution_count": 55,
   "metadata": {
    "ExecuteTime": {
     "end_time": "2020-08-23T12:54:51.716403Z",
     "start_time": "2020-08-23T12:45:58.085094Z"
    },
    "scrolled": false
   },
   "outputs": [
    {
     "name": "stdout",
     "output_type": "stream",
     "text": [
      "best svc params:{'C': 0.01}\n",
      "\t\t\t        Time:533.387s\n",
      "\t\t\t        Train: AUC: 0.8, F1: 0.059, Recall:0.765, Precision:0.031\n",
      "\t\t\tValidation: AUC: 0.676, F1: 0.041, Recall:0.553, Precision:0.021\n"
     ]
    },
    {
     "data": {
      "image/png": "[encoded data removed]",
      "text/plain": [
       "<Figure size 800x300 with 2 Axes>"
      ]
     },
     "metadata": {
      "needs_background": "light"
     },
     "output_type": "display_data"
    }
   ],
   "source": [
    "svc_rscv_weighted = svc_HyperParamTuning(my_cv_weighted, X_train, y_train, class_weight='balanced')\n",
    "svc_model_weighted = svc_rscv_weighted.best_estimator_\n",
    "_ = print_report([svc_model_weighted], X_train, X_eval, y_train, y_eval)"
   ]
  },
  {
   "cell_type": "markdown",
   "metadata": {},
   "source": [
    "3. We also use Random Forest Classifier to solving the problem"
   ]
  },
  {
   "cell_type": "code",
   "execution_count": 56,
   "metadata": {
    "ExecuteTime": {
     "end_time": "2020-08-23T12:54:51.728170Z",
     "start_time": "2020-08-23T12:54:51.718014Z"
    },
    "code_folding": []
   },
   "outputs": [],
   "source": [
    "import xgboost as xgb\n",
    "def MyRandomSearchCV(dtrain, raw_params, params_dist, folds=None, maximize=False, num_boost_round=150, verbose=False):\n",
    "    \"\"\" \n",
    "        A customized RandomGirdSearchCV to support XGBoost model.\n",
    "    \"\"\"\n",
    "    best_metric, best_std = -np.inf if maximize else np.inf, np.inf\n",
    "    best_index, best_params, cv_results = 0, [], []\n",
    "    \n",
    "    xgb_params = copy.deepcopy(raw_params)\n",
    "    metric = raw_params['eval_metric']\n",
    "    ## ====================== RandomSearchCV starts\n",
    "    for i,params in enumerate(params_dist):\n",
    "        ## XGB training ...\n",
    "        xgb_params.update(params)\n",
    "        xgbcv = xgb.cv(xgb_params, dtrain, num_boost_round, folds=folds, early_stopping_rounds=15, shuffle=False)\n",
    "        curr_metric, curr_std = xgbcv.iloc[-1, -2], xgbcv.iloc[-1, -1]\n",
    "        \n",
    "        ##  Update the best parameters when objective is improved or objective hangs around but std decreases\n",
    "        if  i == 0\\\n",
    "            or not maximize and curr_metric < best_metric\\\n",
    "            or maximize and curr_metric > best_metric:\n",
    "                best_index, best_metric, best_std, best_params, cv_results = i, curr_metric, curr_std, params, xgbcv\n",
    "        \n",
    "        ## Print cv information\n",
    "        if verbose:\n",
    "            x1, x2, x3, x4 = np.round(xgbcv.iloc[-1, -4:], 4)\n",
    "            print(\"=======> {n_iter}-th search, train_{metric}:{x1}, train_std:{x2}, val_{metric}:{x3}, val_std:{x4}\"\n",
    "                                        .format(n_iter=i+1, metric=metric, x1=x1, x2=x2, x3=x3, x4=x4))\n",
    "    ## ====================== RandomSearchCV ends\n",
    "    print('best_params:{}, best_{}(val):{}'.format(best_params, metric, round(best_metric, 4)))\n",
    "    return {'cv_results':cv_results, 'best_index':best_index, 'best_params':best_params, 'best_metric':best_metric}"
   ]
  },
  {
   "cell_type": "code",
   "execution_count": 57,
   "metadata": {
    "ExecuteTime": {
     "end_time": "2020-08-23T12:54:51.741613Z",
     "start_time": "2020-08-23T12:54:51.730246Z"
    },
    "code_folding": []
   },
   "outputs": [],
   "source": [
    "def rfc_HyperParamTuning(CVsplits, dtrain, seed=RANDOM_SEED, max_bin=256, verbose=False):\n",
    "    \"\"\" \n",
    "        A rough hyper-parameter tuning process for XGBoost Random Forest using random girdsearch.\n",
    "    The main purpose is to more efficiently determine the way to overcome class imbalance.\n",
    "    \"\"\"\n",
    "    from sklearn.model_selection import ParameterSampler\n",
    "    rfc_params= {'objective':'binary:logistic', 'eval_metric':'auc', 'tree_method':'hist', 'max_bin':max_bin,\n",
    "            'eta':1, 'colsample_bynode':np.sqrt(dtrain.num_col())/dtrain.num_col(), 'subsample':0.8, 'seed':seed, 'nthread':8}\n",
    "    \n",
    "    start = time.time()\n",
    "    ##### ================== Hyper-Parameter Tuning Start\n",
    "    ## We first tune the most important num_parallel_tree and max_depth using grid-search\n",
    "    rfc_param_grid ={'num_parallel_tree': np.arange(100, 701, 100)}\n",
    "    rfc_param_dist = ParameterSampler(rfc_param_grid, n_iter=7, random_state=seed)\n",
    "    rfc_rscv = MyRandomSearchCV(dtrain, rfc_params, rfc_param_dist, folds=CVsplits, maximize=True, num_boost_round=1, verbose=verbose)\n",
    "    rfc_params.update(rfc_rscv['best_params'])\n",
    "    \n",
    "    rfc_param_grid={'max_depth': np.arange(2,13,2)}\n",
    "    rfc_param_dist = ParameterSampler(rfc_param_grid, n_iter=6, random_state=seed)\n",
    "    rfc_rscv = MyRandomSearchCV(dtrain, rfc_params, rfc_param_dist, folds=CVsplits, maximize=True, num_boost_round=1, verbose=verbose)\n",
    "    rfc_params.update(rfc_rscv['best_params'])\n",
    "    \n",
    "    ## We then tune less important 'colsample_bynode' and 'subsample' using random grid-search\n",
    "    rfc_param_grid={'colsample_bynode': 0.01 * (2**np.arange(6)),\n",
    "                                   'subsample': np.arange(0.7, 0.91, 0.1)}\n",
    "    DefaultParam = {'colsample_bynode':rfc_params['colsample_bynode'], 'subsample':rfc_params['subsample']} ## In case the default works best\n",
    "    rfc_param_dist = list(ParameterSampler(rfc_param_grid, n_iter=7, random_state=seed)) + [DefaultParam]\n",
    "    rfc_rscv = MyRandomSearchCV(dtrain, rfc_params, rfc_param_dist, folds=CVsplits, maximize=True, num_boost_round=1, verbose=verbose)\n",
    "    rfc_params.update(rfc_rscv['best_params'])\n",
    "    \n",
    "    ## 3. We don't tune min_child_weight', 'gamma' and 'lambda' because it's ok for each signle tree to grow deeply\n",
    "    ##### ================== Hyper-Parameter Tuning End\n",
    "    print(\"\\t\\t\\t        Time:{cost}s\".format(cost=round(time.time()-start,3)))\n",
    "    return rfc_params, rfc_rscv"
   ]
  },
  {
   "cell_type": "code",
   "execution_count": 58,
   "metadata": {
    "ExecuteTime": {
     "end_time": "2020-08-23T12:54:51.927202Z",
     "start_time": "2020-08-23T12:54:51.744214Z"
    }
   },
   "outputs": [],
   "source": [
    "dtrain_weighted = xgb.DMatrix(X_train, y_train, weights_train)"
   ]
  },
  {
   "cell_type": "code",
   "execution_count": 59,
   "metadata": {
    "ExecuteTime": {
     "end_time": "2020-08-23T13:05:21.912787Z",
     "start_time": "2020-08-23T12:54:51.930912Z"
    },
    "scrolled": true
   },
   "outputs": [
    {
     "name": "stdout",
     "output_type": "stream",
     "text": [
      "=======> 1-th search, train_auc:0.9329, train_std:0.0049, val_auc:0.7212, val_std:0.0268\n",
      "=======> 2-th search, train_auc:0.9339, train_std:0.0029, val_auc:0.7225, val_std:0.0304\n",
      "=======> 3-th search, train_auc:0.9335, train_std:0.0022, val_auc:0.7243, val_std:0.0284\n",
      "=======> 4-th search, train_auc:0.9337, train_std:0.002, val_auc:0.7249, val_std:0.028\n",
      "=======> 5-th search, train_auc:0.9338, train_std:0.0021, val_auc:0.7246, val_std:0.027\n",
      "=======> 6-th search, train_auc:0.934, train_std:0.0025, val_auc:0.7253, val_std:0.0275\n",
      "=======> 7-th search, train_auc:0.9338, train_std:0.0024, val_auc:0.7255, val_std:0.0269\n",
      "best_params:{'num_parallel_tree': 700}, best_auc(val):0.7255\n",
      "=======> 1-th search, train_auc:0.7878, train_std:0.0042, val_auc:0.7257, val_std:0.0213\n",
      "=======> 2-th search, train_auc:0.8557, train_std:0.0037, val_auc:0.7306, val_std:0.0215\n",
      "=======> 3-th search, train_auc:0.9338, train_std:0.0024, val_auc:0.7255, val_std:0.0269\n",
      "=======> 4-th search, train_auc:0.977, train_std:0.0014, val_auc:0.7098, val_std:0.0264\n",
      "=======> 5-th search, train_auc:0.9873, train_std:0.0007, val_auc:0.6987, val_std:0.026\n",
      "=======> 6-th search, train_auc:0.9917, train_std:0.0002, val_auc:0.6885, val_std:0.0238\n",
      "best_params:{'max_depth': 4}, best_auc(val):0.7306\n",
      "=======> 1-th search, train_auc:0.8721, train_std:0.003, val_auc:0.6822, val_std:0.0323\n",
      "=======> 2-th search, train_auc:0.8388, train_std:0.0035, val_auc:0.756, val_std:0.0212\n",
      "=======> 3-th search, train_auc:0.8749, train_std:0.0052, val_auc:0.6835, val_std:0.0312\n",
      "=======> 4-th search, train_auc:0.8389, train_std:0.003, val_auc:0.7541, val_std:0.0209\n",
      "=======> 5-th search, train_auc:0.8695, train_std:0.0098, val_auc:0.6434, val_std:0.0269\n",
      "=======> 6-th search, train_auc:0.8746, train_std:0.0121, val_auc:0.6442, val_std:0.0263\n",
      "=======> 7-th search, train_auc:0.8511, train_std:0.0044, val_auc:0.7398, val_std:0.0212\n",
      "=======> 8-th search, train_auc:0.8557, train_std:0.0037, val_auc:0.7306, val_std:0.0215\n",
      "best_params:{'subsample': 0.8999999999999999, 'colsample_bynode': 0.16}, best_auc(val):0.756\n",
      "\t\t\t        Time:624.375s\n",
      "\t\t\t        Train: AUC: 0.831, F1: 0.068, Recall:0.734, Precision:0.036\n",
      "\t\t\tValidation: AUC: 0.758, F1: 0.058, Recall:0.641, Precision:0.031\n"
     ]
    },
    {
     "data": {
      "image/png": "[encoded data removed]",
      "text/plain": [
       "<Figure size 800x300 with 2 Axes>"
      ]
     },
     "metadata": {
      "needs_background": "light"
     },
     "output_type": "display_data"
    }
   ],
   "source": [
    "rfc_params_weighted, rfc_rscv_weighted = rfc_HyperParamTuning(my_cv_weighted, dtrain_weighted, verbose=True)\n",
    "rfc_model_weighted = xgb.train(rfc_params_weighted, dtrain_weighted, rfc_rscv_weighted['cv_results'].shape[0], verbose_eval=False)\n",
    "_ = print_report([rfc_model_weighted], X_train, X_eval, y_train, y_eval)"
   ]
  },
  {
   "cell_type": "markdown",
   "metadata": {},
   "source": [
    "4. Finally, we apply the powreful XGBoost Classifier. And to use XGB API for computational efficiency, we also define a customized RandomGridSearchCV for tuning hyper-parameter."
   ]
  },
  {
   "cell_type": "code",
   "execution_count": 60,
   "metadata": {
    "ExecuteTime": {
     "end_time": "2020-08-23T13:05:21.933779Z",
     "start_time": "2020-08-23T13:05:21.917619Z"
    },
    "code_folding": [],
    "scrolled": true
   },
   "outputs": [],
   "source": [
    "import xgboost as xgb\n",
    "def xgb_HyperParamTuning(CVsplits, dtrain, seed=RANDOM_SEED, max_bin=256, verbose=True):\n",
    "    \"\"\" \n",
    "        A rought hyper-parameter tuning process for XGBoost using random girdsearch.\n",
    "    The main purpose is to more efficiently determine the way to overcome class imbalance.\n",
    "    \"\"\"\n",
    "    from sklearn.model_selection import ParameterSampler\n",
    "    xgb_params= {'objective':'binary:logistic', 'eval_metric':'auc', 'tree_method':'hist', 'max_bin':max_bin, 'nthread':8}\n",
    "    \n",
    "    start = time.time()\n",
    "    ##### ================== Hyper-Parameter Tuning Start\n",
    "    ## We only tune the important ones, 'eta' and 'max_depth', using grid-search\n",
    "    xgb_param_grid={'eta': np.logspace(-2, -0.7, 7),\n",
    "                                   'max_depth': [2]}\n",
    "    xgb_param_dist = ParameterSampler(xgb_param_grid, 7, seed)\n",
    "    xgb_rscv = MyRandomSearchCV(dtrain, xgb_params, xgb_param_dist, folds=CVsplits, maximize=True, verbose=verbose)\n",
    "    xgb_params.update(xgb_rscv['best_params'])\n",
    "    \n",
    "    xgb_param_grid={ 'max_depth': np.arange(1,4)}\n",
    "    xgb_param_dist = ParameterSampler(xgb_param_grid, 3, seed)\n",
    "    xgb_rscv = MyRandomSearchCV(dtrain, xgb_params, xgb_param_dist, folds=CVsplits, maximize=True, verbose=verbose)\n",
    "    xgb_params.update(xgb_rscv['best_params'])\n",
    "    \n",
    "    ## 2. 'min_child_weight' and 'gamma'\n",
    "    xgb_param_grid={'min_child_weight': 2**np.arange(5),  ## Our dataset is large, so using 1,2,3,4,... is meaningless\n",
    "                                    'gamma': np.append(0, 2**np.arange(4))}\n",
    "    DefaultParam = {'min_child_weight':1, 'gamma':0}                                ## In case the default works best\n",
    "    xgb_param_dist = [DefaultParam] + list(ParameterSampler(xgb_param_grid, 5, seed))\n",
    "    xgb_rscv = MyRandomSearchCV(dtrain, xgb_params, xgb_param_dist, folds=CVsplits, maximize=True, verbose=verbose)\n",
    "    xgb_params.update(xgb_rscv['best_params'])\n",
    "    ##### ================== Hyper-Parameter Tuning End\n",
    "    print(\"\\t\\t\\t        Time:{cost}s\".format(cost=round(time.time()-start,3)))\n",
    "    return xgb_params, xgb_rscv"
   ]
  },
  {
   "cell_type": "code",
   "execution_count": 61,
   "metadata": {
    "ExecuteTime": {
     "end_time": "2020-08-23T13:06:18.145602Z",
     "start_time": "2020-08-23T13:05:21.936284Z"
    },
    "scrolled": false
   },
   "outputs": [
    {
     "name": "stdout",
     "output_type": "stream",
     "text": [
      "=======> 1-th search, train_auc:0.754, train_std:0.004, val_auc:0.7464, val_std:0.0172\n",
      "=======> 2-th search, train_auc:0.7543, train_std:0.004, val_auc:0.7463, val_std:0.0172\n",
      "=======> 3-th search, train_auc:0.7523, train_std:0.0028, val_auc:0.746, val_std:0.0157\n",
      "=======> 4-th search, train_auc:0.8029, train_std:0.0022, val_auc:0.7698, val_std:0.0226\n",
      "=======> 5-th search, train_auc:0.8104, train_std:0.0019, val_auc:0.7691, val_std:0.0208\n",
      "=======> 6-th search, train_auc:0.8016, train_std:0.0027, val_auc:0.7673, val_std:0.0215\n",
      "=======> 7-th search, train_auc:0.802, train_std:0.0027, val_auc:0.7709, val_std:0.0178\n",
      "best_params:{'max_depth': 2, 'eta': 0.19952623149688797}, best_auc(val):0.7709\n",
      "=======> 1-th search, train_auc:0.8005, train_std:0.0032, val_auc:0.7694, val_std:0.0164\n",
      "=======> 2-th search, train_auc:0.802, train_std:0.0027, val_auc:0.7709, val_std:0.0178\n",
      "=======> 3-th search, train_auc:0.8125, train_std:0.0034, val_auc:0.761, val_std:0.0233\n",
      "best_params:{'max_depth': 2}, best_auc(val):0.7709\n",
      "=======> 1-th search, train_auc:0.802, train_std:0.0027, val_auc:0.7709, val_std:0.0178\n",
      "=======> 2-th search, train_auc:0.802, train_std:0.0027, val_auc:0.7709, val_std:0.0178\n",
      "=======> 3-th search, train_auc:0.802, train_std:0.0027, val_auc:0.7709, val_std:0.0178\n",
      "=======> 4-th search, train_auc:0.802, train_std:0.0027, val_auc:0.7709, val_std:0.0178\n",
      "=======> 5-th search, train_auc:0.802, train_std:0.0027, val_auc:0.7709, val_std:0.0178\n",
      "=======> 6-th search, train_auc:0.802, train_std:0.0027, val_auc:0.7709, val_std:0.0178\n",
      "best_params:{'min_child_weight': 1, 'gamma': 0}, best_auc(val):0.7709\n",
      "\t\t\t        Time:55.53s\n",
      "\t\t\t        Train: AUC: 0.8, F1: 0.066, Recall:0.706, Precision:0.034\n",
      "\t\t\tValidation: AUC: 0.777, F1: 0.063, Recall:0.689, Precision:0.033\n"
     ]
    },
    {
     "data": {
      "image/png": "[encoded data removed]",
      "text/plain": [
       "<Figure size 800x300 with 2 Axes>"
      ]
     },
     "metadata": {
      "needs_background": "light"
     },
     "output_type": "display_data"
    }
   ],
   "source": [
    "xgb_params_weighted, xgb_rscv_weighted = xgb_HyperParamTuning(my_cv_weighted, dtrain_weighted, verbose=True)\n",
    "xgb_model_weighted = xgb.train(xgb_params_weighted, dtrain_weighted, xgb_rscv_weighted['cv_results'].shape[0], verbose_eval=False)\n",
    "_ = print_report([xgb_model_weighted], X_train, X_eval, y_train, y_eval)"
   ]
  },
  {
   "cell_type": "markdown",
   "metadata": {},
   "source": [
    "5. We will NOT apply neural network here although it's powerful, because our handy data set is relatively too small for it to demonstrate its capability."
   ]
  },
  {
   "cell_type": "markdown",
   "metadata": {},
   "source": [
    "### Then, we determine the way to tackle the classes imbalance problem."
   ]
  },
  {
   "cell_type": "markdown",
   "metadata": {},
   "source": [
    "With a rough parameter tuning we see that **XGBoost** gives the best AUC with cheap computational cost, so after we will use it as our main model to determine which method among following to use for handling class imbalance:  \n",
    "1. Unbalanced weight assignment;  \n",
    "2. Oversampling;  \n",
    "3. Undersampling + Ensemble;  \n",
    "4. Undersampling + Oversampling + Ensemble."
   ]
  },
  {
   "cell_type": "markdown",
   "metadata": {},
   "source": [
    "1.(1) Oversampling: Note our features are mostly **categorical**, methods like **[SMOTE and ADASYN](https://imbalanced-learn.org/stable/over_sampling.html) are improper**, so we just try ** Random Oversampling**."
   ]
  },
  {
   "cell_type": "code",
   "execution_count": 62,
   "metadata": {
    "ExecuteTime": {
     "end_time": "2020-08-23T13:06:18.290539Z",
     "start_time": "2020-08-23T13:06:18.147741Z"
    }
   },
   "outputs": [],
   "source": [
    "\"\"\" We recreate training set because this time we plan to solve the imbalance problem by sampling, both classes should have the same weights. \"\"\"\n",
    "dtrain = xgb.DMatrix(X_train, y_train)"
   ]
  },
  {
   "cell_type": "code",
   "execution_count": 63,
   "metadata": {
    "ExecuteTime": {
     "end_time": "2020-08-23T13:06:18.538462Z",
     "start_time": "2020-08-23T13:06:18.292725Z"
    },
    "code_folding": [
     0,
     12
    ]
   },
   "outputs": [],
   "source": [
    "def MyOverSampler(X, y, idx, seed):\n",
    "    \"\"\" Do over-sampling without random picks so that each data point has the same weight. \"\"\"\n",
    "    np.random.seed(seed)\n",
    "    if y[idx].mean() == 0.5:\n",
    "        return np.random.permutation(idx)\n",
    "    major_idx, minor_idx = idx[y[idx]==0], idx[y[idx]==1]\n",
    "    n_major, n_minor = major_idx.shape[0], minor_idx.shape[0]\n",
    "    idx_ros = np.hstack([major_idx, np.tile(minor_idx, n_major//n_minor + 1)[:n_major]])\n",
    "    ## make sure that we've achieved class imbalance\n",
    "    assert(y[idx_ros].mean() == 0.5) \n",
    "    return np.random.permutation(idx_ros)\n",
    "\n",
    "def MyOverSamplerCV(X, y, n_splits, seed=RANDOM_SEED):\n",
    "    \"\"\" \n",
    "        Make a stratified CV split without replacement so that each split has similar data strucutre and\n",
    "    thus can be equally weighted when voting for choosing hyper-parameter.\n",
    "    \"\"\"\n",
    "    for train_idx, val_idx in MyStratifiedCV(X, y, n_splits, seed=seed):\n",
    "        train_idx_ros = MyOverSampler(X, y, train_idx, seed)\n",
    "        yield (train_idx_ros, val_idx)\n",
    "\n",
    "def getBestModels(X, y, cvSpliter, xgb_params={}, ntrees=None, sklearn_model=None):\n",
    "    \"\"\" Return a list of weak models so that we can ensemble them to make predictions. \"\"\"\n",
    "    best_models = [xgb.train(xgb_params, xgb.DMatrix(X[idx], y[idx]), ntrees, verbose_eval=False) if sklearn_model is None\n",
    "                                else sklearn_model.fit(X[idx], y[idx])\n",
    "                                for idx, _ in cvSpliter]\n",
    "    return best_models"
   ]
  },
  {
   "cell_type": "code",
   "execution_count": 64,
   "metadata": {
    "ExecuteTime": {
     "end_time": "2020-08-23T13:07:49.796667Z",
     "start_time": "2020-08-23T13:06:18.541789Z"
    },
    "scrolled": false
   },
   "outputs": [
    {
     "name": "stdout",
     "output_type": "stream",
     "text": [
      "=======> 1-th search, train_auc:0.754, train_std:0.0039, val_auc:0.7465, val_std:0.0171\n",
      "=======> 2-th search, train_auc:0.7541, train_std:0.0038, val_auc:0.7463, val_std:0.0173\n",
      "=======> 3-th search, train_auc:0.7524, train_std:0.0028, val_auc:0.746, val_std:0.0157\n",
      "=======> 4-th search, train_auc:0.8011, train_std:0.0024, val_auc:0.7697, val_std:0.0226\n",
      "=======> 5-th search, train_auc:0.8029, train_std:0.0025, val_auc:0.7691, val_std:0.0217\n",
      "=======> 6-th search, train_auc:0.8079, train_std:0.0022, val_auc:0.7675, val_std:0.0215\n",
      "=======> 7-th search, train_auc:0.8021, train_std:0.0027, val_auc:0.771, val_std:0.0177\n",
      "best_params:{'max_depth': 2, 'eta': 0.19952623149688797}, best_auc(val):0.771\n",
      "=======> 1-th search, train_auc:0.8005, train_std:0.0032, val_auc:0.7693, val_std:0.0163\n",
      "=======> 2-th search, train_auc:0.8021, train_std:0.0027, val_auc:0.771, val_std:0.0177\n",
      "=======> 3-th search, train_auc:0.8121, train_std:0.004, val_auc:0.7605, val_std:0.0227\n",
      "best_params:{'max_depth': 2}, best_auc(val):0.771\n",
      "=======> 1-th search, train_auc:0.8021, train_std:0.0027, val_auc:0.771, val_std:0.0177\n",
      "=======> 2-th search, train_auc:0.8021, train_std:0.0027, val_auc:0.771, val_std:0.0177\n",
      "=======> 3-th search, train_auc:0.8021, train_std:0.0027, val_auc:0.771, val_std:0.0177\n",
      "=======> 4-th search, train_auc:0.8021, train_std:0.0027, val_auc:0.771, val_std:0.0177\n",
      "=======> 5-th search, train_auc:0.8021, train_std:0.0027, val_auc:0.771, val_std:0.0177\n",
      "=======> 6-th search, train_auc:0.8021, train_std:0.0027, val_auc:0.771, val_std:0.0177\n",
      "best_params:{'min_child_weight': 1, 'gamma': 0}, best_auc(val):0.771\n",
      "\t\t\t        Time:89.942s\n",
      "\t\t\t        Train: AUC: 0.8, F1: 0.066, Recall:0.706, Precision:0.034\n",
      "\t\t\tValidation: AUC: 0.777, F1: 0.063, Recall:0.689, Precision:0.033\n"
     ]
    },
    {
     "data": {
      "image/png": "[encoded data removed]",
      "text/plain": [
       "<Figure size 800x300 with 2 Axes>"
      ]
     },
     "metadata": {
      "needs_background": "light"
     },
     "output_type": "display_data"
    }
   ],
   "source": [
    "my_cv_ros = list(MyOverSamplerCV(X_train, y_train, n_splits=n_splits))\n",
    "xgb_params_ros, xgb_rscv_ros = xgb_HyperParamTuning(my_cv_ros, dtrain, verbose=True)\n",
    "\n",
    "##  Sets n_splits=1 so that we're training model for prediction rather than tuning hyper-parameters\n",
    "my_NOcv_ros = list(MyOverSamplerCV(X_train, y_train, n_splits=1))\n",
    "xgb_BestModels_ros = getBestModels(X_train, y_train, my_NOcv_ros, xgb_params=xgb_params_ros, ntrees=xgb_rscv_ros['cv_results'].shape[0])\n",
    "_ = print_report(xgb_BestModels_ros, X_train, X_eval, y_train, y_eval)"
   ]
  },
  {
   "cell_type": "markdown",
   "metadata": {},
   "source": [
    "1.(2) Undersampling + Ensemble: Only applying undersampling will lose a lot of informatin, so we combine it with ensemble."
   ]
  },
  {
   "cell_type": "markdown",
   "metadata": {},
   "source": [
    "For achieving our goal, we redefine a RandomSearchCV including UnderSampler based on the previous one."
   ]
  },
  {
   "cell_type": "code",
   "execution_count": 65,
   "metadata": {
    "ExecuteTime": {
     "end_time": "2020-08-23T13:07:49.814438Z",
     "start_time": "2020-08-23T13:07:49.800187Z"
    },
    "code_folding": [
     0,
     10
    ]
   },
   "outputs": [],
   "source": [
    "def MyUnderSampler(idx,sample_size,seed):\n",
    "    \"\"\" Do under-sampling without random picks so that each data point has the same weight. \"\"\"\n",
    "    np.random.seed(seed)\n",
    "    RandomSamples = np.random.choice(idx, size=sample_size, replace=False)\n",
    "    leftout_idx = np.array(list(set(idx) - set(RandomSamples.ravel()))) ## idx not sampled\n",
    "    for i, idx in enumerate(RandomSamples):\n",
    "        if i == 0: ## add leftout idx to not waste info\n",
    "            idx = np.append(idx, leftout_idx)\n",
    "        yield idx.astype(int)\n",
    "\n",
    "def MyUnderOverSamplerCV(X,y,n_splits=7,n_batch=None,seed=RANDOM_SEED):\n",
    "    \"\"\" \n",
    "        We make a stratified CV split without replacement so that each split has similar data strucutre and thus\n",
    "    can be equally weighted when voting for choosing hyper-parameter.\n",
    "        Moreover, n_batch controls whether we're using only RandomUnderSampler or RandomUnderSampler\n",
    "    and RandomOverSampler together.\n",
    "    \"\"\"\n",
    "    from imblearn.over_sampling import RandomOverSampler\n",
    "    for train_idx, val_idx in MyStratifiedCV(X, y, n_splits, seed=seed):\n",
    "        major_idx, minor_idx = train_idx[y[train_idx] == 0], train_idx[y[train_idx] == 1]\n",
    "        n_major, n_minor = major_idx.shape[0], minor_idx.shape[0]\n",
    "        \n",
    "        if n_batch is None: ## (1) pure RandomUnderSampling\n",
    "            sample_size = (n_major // n_minor, n_minor)\n",
    "        else:  ## (2) RandomUnderSampling + OverSampling\n",
    "            sample_size = (n_batch, n_major // n_batch)\n",
    "\n",
    "        for i, major_rus_idx in enumerate(MyUnderSampler(major_idx, sample_size, seed=seed)):\n",
    "            rus_idx = np.append(major_rus_idx, minor_idx)\n",
    "            ruos_idx = MyOverSampler(X, y, rus_idx, seed+i)\n",
    "            yield (ruos_idx, val_idx)"
   ]
  },
  {
   "cell_type": "code",
   "execution_count": 66,
   "metadata": {
    "ExecuteTime": {
     "end_time": "2020-08-23T13:40:31.960272Z",
     "start_time": "2020-08-23T13:07:49.817480Z"
    },
    "scrolled": false
   },
   "outputs": [
    {
     "name": "stderr",
     "output_type": "stream",
     "text": [
      "Using TensorFlow backend.\n"
     ]
    },
    {
     "name": "stdout",
     "output_type": "stream",
     "text": [
      "=======> 1-th search, train_auc:0.8131, train_std:0.0107, val_auc:0.7613, val_std:0.0232\n",
      "=======> 2-th search, train_auc:0.8377, train_std:0.0098, val_auc:0.7626, val_std:0.0224\n",
      "=======> 3-th search, train_auc:0.8422, train_std:0.0096, val_auc:0.7627, val_std:0.0224\n",
      "=======> 4-th search, train_auc:0.8446, train_std:0.0094, val_auc:0.7627, val_std:0.0222\n",
      "=======> 5-th search, train_auc:0.8403, train_std:0.0097, val_auc:0.7627, val_std:0.0223\n",
      "=======> 6-th search, train_auc:0.8478, train_std:0.0089, val_auc:0.7626, val_std:0.0221\n",
      "=======> 7-th search, train_auc:0.8426, train_std:0.0095, val_auc:0.7618, val_std:0.0221\n",
      "best_params:{'max_depth': 2, 'eta': 0.02712272579332028}, best_auc(val):0.7627\n",
      "=======> 1-th search, train_auc:0.7899, train_std:0.0107, val_auc:0.761, val_std:0.0208\n",
      "=======> 2-th search, train_auc:0.8422, train_std:0.0096, val_auc:0.7627, val_std:0.0224\n",
      "=======> 3-th search, train_auc:0.8461, train_std:0.0102, val_auc:0.7615, val_std:0.0231\n",
      "best_params:{'max_depth': 2}, best_auc(val):0.7627\n",
      "=======> 1-th search, train_auc:0.8422, train_std:0.0096, val_auc:0.7627, val_std:0.0224\n",
      "=======> 2-th search, train_auc:0.8368, train_std:0.0099, val_auc:0.7637, val_std:0.0225\n",
      "=======> 3-th search, train_auc:0.8421, train_std:0.0096, val_auc:0.7626, val_std:0.0226\n",
      "=======> 4-th search, train_auc:0.7975, train_std:0.0145, val_auc:0.7627, val_std:0.0229\n",
      "=======> 5-th search, train_auc:0.8398, train_std:0.0098, val_auc:0.7635, val_std:0.0227\n",
      "=======> 6-th search, train_auc:0.8479, train_std:0.0092, val_auc:0.763, val_std:0.0227\n",
      "best_params:{'min_child_weight': 8, 'gamma': 4}, best_auc(val):0.7637\n",
      "\t\t\t        Time:1943.213s\n",
      "\t\t\t        Train: AUC: 0.819, F1: 0.065, Recall:0.706, Precision:0.034\n",
      "\t\t\tValidation: AUC: 0.781, F1: 0.063, Recall:0.689, Precision:0.033\n"
     ]
    },
    {
     "data": {
      "image/png": "[encoded data removed]",
      "text/plain": [
       "<Figure size 800x300 with 2 Axes>"
      ]
     },
     "metadata": {
      "needs_background": "light"
     },
     "output_type": "display_data"
    }
   ],
   "source": [
    "my_cv_rus = list(MyUnderOverSamplerCV(X_train, y_train, n_splits=n_splits))\n",
    "xgb_params_rus, xgb_rscv_rus = xgb_HyperParamTuning(my_cv_rus, dtrain, max_bin=256)\n",
    "\n",
    "##  Sets n_splits=1 so that we're training model for prediction rather than tuning hyper-parameters\n",
    "my_NOcv_rus = list(MyUnderOverSamplerCV(X_train, y_train, n_splits=1))\n",
    "xgb_BestModels_rus = getBestModels(X_train, y_train, my_NOcv_rus, xgb_params=xgb_params_rus, ntrees=xgb_rscv_rus['cv_results'].shape[0])\n",
    "_ = print_report(xgb_BestModels_rus, X_train, X_eval, y_train, y_eval)"
   ]
  },
  {
   "cell_type": "markdown",
   "metadata": {},
   "source": [
    "1.(3) Undersampling + Oversampling + Ensemble: We now combine oversampling and undersampling together with ensemble."
   ]
  },
  {
   "cell_type": "code",
   "execution_count": 67,
   "metadata": {
    "ExecuteTime": {
     "end_time": "2020-08-23T13:40:31.980244Z",
     "start_time": "2020-08-23T13:40:31.967099Z"
    }
   },
   "outputs": [
    {
     "data": {
      "text/plain": [
       "79"
      ]
     },
     "execution_count": 67,
     "metadata": {},
     "output_type": "execute_result"
    }
   ],
   "source": [
    "len(my_cv_rus) // n_splits"
   ]
  },
  {
   "cell_type": "markdown",
   "metadata": {},
   "source": [
    "With only UnderSampler we get 79 mini batches, which not only can introduce noises but also makes computation very costly. Therefore, we reduce the number to 20 and see how it performs."
   ]
  },
  {
   "cell_type": "code",
   "execution_count": 68,
   "metadata": {
    "ExecuteTime": {
     "end_time": "2020-08-23T13:51:45.769006Z",
     "start_time": "2020-08-23T13:40:32.014429Z"
    },
    "scrolled": true
   },
   "outputs": [
    {
     "name": "stdout",
     "output_type": "stream",
     "text": [
      "=======> 1-th search, train_auc:0.7951, train_std:0.0067, val_auc:0.7654, val_std:0.0242\n",
      "=======> 2-th search, train_auc:0.8168, train_std:0.0056, val_auc:0.7668, val_std:0.0234\n",
      "=======> 3-th search, train_auc:0.814, train_std:0.0057, val_auc:0.7668, val_std:0.0237\n",
      "=======> 4-th search, train_auc:0.8149, train_std:0.0059, val_auc:0.7668, val_std:0.0232\n",
      "=======> 5-th search, train_auc:0.8125, train_std:0.0058, val_auc:0.767, val_std:0.0234\n",
      "=======> 6-th search, train_auc:0.8253, train_std:0.0056, val_auc:0.766, val_std:0.0228\n",
      "=======> 7-th search, train_auc:0.8308, train_std:0.0052, val_auc:0.7658, val_std:0.0222\n",
      "best_params:{'max_depth': 2, 'eta': 0.07356422544596414}, best_auc(val):0.767\n",
      "=======> 1-th search, train_auc:0.809, train_std:0.0057, val_auc:0.7677, val_std:0.0188\n",
      "=======> 2-th search, train_auc:0.8125, train_std:0.0058, val_auc:0.767, val_std:0.0234\n",
      "=======> 3-th search, train_auc:0.8308, train_std:0.006, val_auc:0.762, val_std:0.0251\n",
      "best_params:{'max_depth': 1}, best_auc(val):0.7677\n",
      "=======> 1-th search, train_auc:0.809, train_std:0.0057, val_auc:0.7677, val_std:0.0188\n",
      "=======> 2-th search, train_auc:0.8088, train_std:0.0057, val_auc:0.768, val_std:0.0186\n",
      "=======> 3-th search, train_auc:0.809, train_std:0.0057, val_auc:0.7677, val_std:0.0188\n",
      "=======> 4-th search, train_auc:0.8088, train_std:0.0057, val_auc:0.768, val_std:0.0186\n",
      "=======> 5-th search, train_auc:0.8088, train_std:0.0057, val_auc:0.768, val_std:0.0186\n",
      "=======> 6-th search, train_auc:0.809, train_std:0.0057, val_auc:0.7677, val_std:0.0188\n",
      "best_params:{'min_child_weight': 8, 'gamma': 4}, best_auc(val):0.768\n",
      "\t\t\t        Time:665.407s\n",
      "\t\t\t        Train: AUC: 0.803, F1: 0.066, Recall:0.706, Precision:0.034\n",
      "\t\t\tValidation: AUC: 0.774, F1: 0.063, Recall:0.689, Precision:0.033\n"
     ]
    },
    {
     "data": {
      "image/png": "[encoded data removed]",
      "text/plain": [
       "<Figure size 800x300 with 2 Axes>"
      ]
     },
     "metadata": {
      "needs_background": "light"
     },
     "output_type": "display_data"
    }
   ],
   "source": [
    "my_cv_ruos = list(MyUnderOverSamplerCV(X_train, y_train, n_splits=n_splits, n_batch=20))\n",
    "xgb_params_ruos, xgb_rscv_ruos = xgb_HyperParamTuning(my_cv_ruos, dtrain, max_bin=256)\n",
    "\n",
    "##  Sets n_splits=1 so that we're training model for prediction rather than tuning hyper-parameters\n",
    "my_NOcv_ruos = list(MyUnderOverSamplerCV(X_train, y_train, n_splits=1, n_batch=20))\n",
    "xgb_BestModels_ruos = getBestModels(X_train, y_train, my_NOcv_ruos, xgb_params=xgb_params_ruos, ntrees=xgb_rscv_ruos['cv_results'].shape[0])\n",
    "_ = print_report(xgb_BestModels_ruos, X_train, X_eval, y_train, y_eval)"
   ]
  },
  {
   "cell_type": "markdown",
   "metadata": {},
   "source": [
    "1. Undersampling + ensemble gives the best worse AUC but runs too slow.\n",
    "2. Oversampling produces slightly worse result but is much computationally cheaper.\n",
    "3. Unbalanced weight assignment is similar to oversampling, but there is a tiny gap here.\n",
    "\n",
    "So we fianlly choose oversampling as winner."
   ]
  },
  {
   "cell_type": "markdown",
   "metadata": {},
   "source": [
    "### Model Stacking?"
   ]
  },
  {
   "cell_type": "code",
   "execution_count": 69,
   "metadata": {
    "ExecuteTime": {
     "end_time": "2020-08-23T13:51:48.226486Z",
     "start_time": "2020-08-23T13:51:45.771947Z"
    }
   },
   "outputs": [
    {
     "data": {
      "text/html": [
       "<div>\n",
       "<style scoped>\n",
       "    .dataframe tbody tr th:only-of-type {\n",
       "        vertical-align: middle;\n",
       "    }\n",
       "\n",
       "    .dataframe tbody tr th {\n",
       "        vertical-align: top;\n",
       "    }\n",
       "\n",
       "    .dataframe thead th {\n",
       "        text-align: right;\n",
       "    }\n",
       "</style>\n",
       "<table border=\"1\" class=\"dataframe\">\n",
       "  <thead>\n",
       "    <tr style=\"text-align: right;\">\n",
       "      <th></th>\n",
       "      <th>xgb_weighted</th>\n",
       "      <th>lr_weighted</th>\n",
       "      <th>svc_weighted</th>\n",
       "      <th>rfc_weighted</th>\n",
       "    </tr>\n",
       "  </thead>\n",
       "  <tbody>\n",
       "    <tr>\n",
       "      <th>xgb_weighted</th>\n",
       "      <td>1.000000</td>\n",
       "      <td>0.579499</td>\n",
       "      <td>0.528343</td>\n",
       "      <td>0.908408</td>\n",
       "    </tr>\n",
       "    <tr>\n",
       "      <th>lr_weighted</th>\n",
       "      <td>0.579499</td>\n",
       "      <td>1.000000</td>\n",
       "      <td>0.960718</td>\n",
       "      <td>0.725805</td>\n",
       "    </tr>\n",
       "    <tr>\n",
       "      <th>svc_weighted</th>\n",
       "      <td>0.528343</td>\n",
       "      <td>0.960718</td>\n",
       "      <td>1.000000</td>\n",
       "      <td>0.652844</td>\n",
       "    </tr>\n",
       "    <tr>\n",
       "      <th>rfc_weighted</th>\n",
       "      <td>0.908408</td>\n",
       "      <td>0.725805</td>\n",
       "      <td>0.652844</td>\n",
       "      <td>1.000000</td>\n",
       "    </tr>\n",
       "  </tbody>\n",
       "</table>\n",
       "</div>"
      ],
      "text/plain": [
       "              xgb_weighted  lr_weighted  svc_weighted  rfc_weighted\n",
       "xgb_weighted      1.000000     0.579499      0.528343      0.908408\n",
       "lr_weighted       0.579499     1.000000      0.960718      0.725805\n",
       "svc_weighted      0.528343     0.960718      1.000000      0.652844\n",
       "rfc_weighted      0.908408     0.725805      0.652844      1.000000"
      ]
     },
     "execution_count": 69,
     "metadata": {},
     "output_type": "execute_result"
    }
   ],
   "source": [
    "probas_train, names = [], []\n",
    "xgb_weighted_proba_train = ensemble_proba([xgb_model_weighted], X_train, y_train)\n",
    "probas_train.extend([xgb_weighted_proba_train])\n",
    "names.extend(['xgb_weighted'])\n",
    "\n",
    "lr_weighted_proba_train = ensemble_proba([lr_model_weighted], X_train, y_train)\n",
    "probas_train.extend([lr_weighted_proba_train])\n",
    "names.extend(['lr_weighted'])\n",
    "\n",
    "svc_weighted_proba_train = ensemble_proba([svc_model_weighted], X_train, y_train)\n",
    "probas_train.extend([svc_weighted_proba_train])\n",
    "names.extend(['svc_weighted'])\n",
    "\n",
    "rfc_weighted_proba_train = ensemble_proba([rfc_model_weighted], X_train, y_train)\n",
    "probas_train.extend([rfc_weighted_proba_train])\n",
    "names.extend(['rfc_weighted'])\n",
    "\n",
    "base_corr_train = pd.DataFrame(probas_train, index=names).T.corr()\n",
    "base_corr_train"
   ]
  },
  {
   "cell_type": "markdown",
   "metadata": {},
   "source": [
    "We use the default weight assignment to examine correlation among different models and obesrve\n",
    "\n",
    "1. XGBoost and Random Forest(XGBoost based) perform best but are highly correlated.\n",
    "2. Logistic regression and SVC can be used to stack with XGBoost due to low correlation, but they are too weak to be promising.\n",
    "\n",
    "Thus, we leave model stacking as **a possible improvement** to be researched in the future."
   ]
  },
  {
   "cell_type": "markdown",
   "metadata": {},
   "source": [
    "### Carry out a finer parameter searching for XGBoost with Over-Sampling."
   ]
  },
  {
   "cell_type": "markdown",
   "metadata": {},
   "source": [
    "Now we make a more detailed tuning, but the differentce is that will train models for prediction. Namely, we will use the **entire** training set, so we first re-read training set and preprocess it."
   ]
  },
  {
   "cell_type": "code",
   "execution_count": 70,
   "metadata": {
    "ExecuteTime": {
     "end_time": "2020-08-23T13:51:50.950011Z",
     "start_time": "2020-08-23T13:51:48.228365Z"
    }
   },
   "outputs": [],
   "source": [
    "mailout_train = pd.read_csv(os.path.join(os.getcwd(), 'mailout_train.csv'), sep=';')\n",
    "mailout_train  = azdias_data_preprocessing(mailout_train)\n",
    "assert((mailout_train.shape[1] - 1) == (customers.shape[1] - 3))\n",
    "\n",
    "from sklearn.preprocessing import MinMaxScaler\n",
    "mailout_train_pca = mailout_train[pca_features]\n",
    "mailout_train_NonNegativeMin = np.where(mailout_train_pca<0, np.inf, mailout_train_pca).min(axis=0)\n",
    "mailout_train_pca = mailout_train_pca - mailout_train_NonNegativeMin\n",
    "\n",
    "ss_mailout_train = MinMaxScaler()\n",
    "mailout_train_scaled = ss_mailout_train.fit_transform(mailout_train_pca)\n",
    "mailout_train_PCs = pca.transform(mailout_train_scaled)[:, :num_PCs]\n",
    "mailout_train_dist = kmeans.transform(mailout_train_PCs).min(axis=1).round(3)\n",
    "mailout_train['CLUSTER_DIST'] = mailout_train_dist"
   ]
  },
  {
   "cell_type": "code",
   "execution_count": 71,
   "metadata": {
    "ExecuteTime": {
     "end_time": "2020-08-23T13:51:51.266662Z",
     "start_time": "2020-08-23T13:51:50.951721Z"
    }
   },
   "outputs": [],
   "source": [
    "X_train, y_train = mailout_train.drop(columns=['LNR', 'RESPONSE']).values, mailout_train['RESPONSE'].values\n",
    "X_train_NonNegativeMin = np.where(X_train<0, np.inf, X_train).min(axis=0)\n",
    "X_train = X_train - X_train_NonNegativeMin"
   ]
  },
  {
   "cell_type": "code",
   "execution_count": 72,
   "metadata": {
    "ExecuteTime": {
     "end_time": "2020-08-23T13:51:51.475582Z",
     "start_time": "2020-08-23T13:51:51.271579Z"
    }
   },
   "outputs": [
    {
     "name": "stdout",
     "output_type": "stream",
     "text": [
      "(42962, 360)\n",
      "(42962, 278)\n"
     ]
    }
   ],
   "source": [
    "rhos = np.corrcoef(X_train, rowvar=False)\n",
    "variances = X_train.var(axis=0)\n",
    "\n",
    "corr_thresh = 0.90\n",
    "feature_kept_corr = []\n",
    "for i in range(X_train.shape[1]):\n",
    "        colinearity_loc = np.where(np.abs(rhos[:, i]) > corr_thresh)[0]\n",
    "        self_var = variances[i]\n",
    "        competitors_var = variances[colinearity_loc]\n",
    "        ## we keep this feature if no other one is significantly correlated with it or it has the largest variance.\n",
    "        if competitors_var.shape[0] == 0 or self_var >= np.max(competitors_var):\n",
    "            feature_kept_corr.append(i)\n",
    "\n",
    "feature_kept_corr = np.array(feature_kept_corr)\n",
    "print(X_train.shape)\n",
    "X_train = X_train[:, feature_kept_corr]\n",
    "print(X_train.shape)"
   ]
  },
  {
   "cell_type": "markdown",
   "metadata": {},
   "source": [
    "Next, we apply RandomForest Classifier for doing an embedded feature selection by setting max_feature = 1, i.e., selecting a single feature each time to observe its capacity to decrease the objective function.\n",
    "\n",
    "(Note that this is am **in-sample(IS)** method.)"
   ]
  },
  {
   "cell_type": "code",
   "execution_count": 73,
   "metadata": {
    "ExecuteTime": {
     "end_time": "2020-08-23T13:51:57.661701Z",
     "start_time": "2020-08-23T13:51:51.477955Z"
    }
   },
   "outputs": [
    {
     "data": {
      "text/plain": [
       "RandomForestClassifier(bootstrap=True, ccp_alpha=0.0, class_weight=None,\n",
       "                       criterion='gini', max_depth=None, max_features=1,\n",
       "                       max_leaf_nodes=None, max_samples=None,\n",
       "                       min_impurity_decrease=0.0, min_impurity_split=None,\n",
       "                       min_samples_leaf=1, min_samples_split=2,\n",
       "                       min_weight_fraction_leaf=0.0, n_estimators=556, n_jobs=4,\n",
       "                       oob_score=False, random_state=2020, verbose=0,\n",
       "                       warm_start=False)"
      ]
     },
     "execution_count": 73,
     "metadata": {},
     "output_type": "execute_result"
    }
   ],
   "source": [
    "from sklearn.ensemble import RandomForestClassifier\n",
    "rfc = RandomForestClassifier(n_estimators=2*X_train.shape[1], max_features=1, random_state=RANDOM_SEED, n_jobs=4)\n",
    "rfc.fit(X_train, y)"
   ]
  },
  {
   "cell_type": "code",
   "execution_count": 74,
   "metadata": {
    "ExecuteTime": {
     "end_time": "2020-08-23T13:51:57.822439Z",
     "start_time": "2020-08-23T13:51:57.663951Z"
    }
   },
   "outputs": [
    {
     "name": "stdout",
     "output_type": "stream",
     "text": [
      "(42962, 278)\n",
      "(42962, 250)\n"
     ]
    }
   ],
   "source": [
    "feature_imp = rfc.feature_importances_\n",
    "imp_argsort = np.argsort(feature_imp)[::-1]\n",
    "num_feature = feature_imp.shape[0]\n",
    "\n",
    "print(X_train.shape)\n",
    "feature_kept_rfc = imp_argsort[:int(0.9*imp_argsort.shape[0])]\n",
    "X_train = X_train[:, feature_kept_rfc]\n",
    "print(X_train.shape)"
   ]
  },
  {
   "cell_type": "code",
   "execution_count": 75,
   "metadata": {
    "ExecuteTime": {
     "end_time": "2020-08-23T13:51:58.107537Z",
     "start_time": "2020-08-23T13:51:57.824664Z"
    }
   },
   "outputs": [],
   "source": [
    "from sklearn.preprocessing import MinMaxScaler\n",
    "X_train = MinMaxScaler().fit_transform(X_train)\n",
    "dtrain = xgb.DMatrix(X_train, y_train)"
   ]
  },
  {
   "cell_type": "code",
   "execution_count": 76,
   "metadata": {
    "ExecuteTime": {
     "end_time": "2020-08-23T13:51:58.246709Z",
     "start_time": "2020-08-23T13:51:58.109350Z"
    }
   },
   "outputs": [],
   "source": [
    "my_cv_ros = list(MyOverSamplerCV(X_train, y_train, n_splits=n_splits))\n",
    "##  Sets n_splits=1 so that we're training model for prediction rather than tuning hyper-parameters\n",
    "my_NOcv_ros = list(MyOverSamplerCV(X_train, y_train, n_splits=1))"
   ]
  },
  {
   "cell_type": "markdown",
   "metadata": {},
   "source": [
    "Without an evaluation set, we will then develop our models based on validation set."
   ]
  },
  {
   "cell_type": "code",
   "execution_count": 77,
   "metadata": {
    "ExecuteTime": {
     "end_time": "2020-08-23T13:54:48.084704Z",
     "start_time": "2020-08-23T13:51:58.248401Z"
    },
    "scrolled": true
   },
   "outputs": [
    {
     "name": "stdout",
     "output_type": "stream",
     "text": [
      "=======> 1-th search, train_auc:0.6313, train_std:0.002, val_auc:0.6313, val_std:0.0123\n",
      "=======> 2-th search, train_auc:0.753, train_std:0.0041, val_auc:0.7451, val_std:0.0214\n",
      "=======> 3-th search, train_auc:0.7547, train_std:0.0034, val_auc:0.7528, val_std:0.0199\n",
      "=======> 4-th search, train_auc:0.8045, train_std:0.0035, val_auc:0.7644, val_std:0.0186\n",
      "=======> 5-th search, train_auc:0.7547, train_std:0.0034, val_auc:0.7528, val_std:0.0199\n",
      "=======> 6-th search, train_auc:0.8048, train_std:0.0036, val_auc:0.7643, val_std:0.0197\n",
      "=======> 7-th search, train_auc:0.7853, train_std:0.004, val_auc:0.7673, val_std:0.0197\n",
      "=======> 8-th search, train_auc:0.7994, train_std:0.0044, val_auc:0.7643, val_std:0.0186\n",
      "=======> 9-th search, train_auc:0.79, train_std:0.0034, val_auc:0.7688, val_std:0.0195\n",
      "=======> 10-th search, train_auc:0.8213, train_std:0.0029, val_auc:0.7654, val_std:0.018\n",
      "=======> 11-th search, train_auc:0.8045, train_std:0.0024, val_auc:0.7721, val_std:0.0197\n",
      "=======> 12-th search, train_auc:0.8259, train_std:0.0024, val_auc:0.7654, val_std:0.0191\n",
      "=======> 13-th search, train_auc:0.8068, train_std:0.0023, val_auc:0.7715, val_std:0.0201\n",
      "=======> 14-th search, train_auc:0.8234, train_std:0.0029, val_auc:0.7662, val_std:0.0182\n",
      "best_params:{'max_depth': 1, 'eta': 0.12115276586285889}, best_auc(val):0.7721\n"
     ]
    }
   ],
   "source": [
    "from sklearn.model_selection import ParameterSampler\n",
    "xgb_params_ros= {'objective':'binary:logistic', 'eval_metric':'auc', 'tree_method':'hist', 'max_bin':256, 'nthread':8}\n",
    "\n",
    "## We first tune the most important eta using grid-search\n",
    "xgb_param_grid_ros={'eta': np.logspace(-2, -0.7, 7),\n",
    "                                   'max_depth': np.arange(1,3)}\n",
    "xgb_param_dist_ros = list(ParameterSampler(xgb_param_grid_ros, 21, RANDOM_SEED))\n",
    "xgb_rscv_ros = MyRandomSearchCV(dtrain, xgb_params_ros, xgb_param_dist_ros, folds=my_cv_ros, maximize=True, verbose=True)\n",
    "xgb_params_ros.update(xgb_rscv_ros['best_params'])"
   ]
  },
  {
   "cell_type": "code",
   "execution_count": 78,
   "metadata": {
    "ExecuteTime": {
     "end_time": "2020-08-23T13:56:54.373067Z",
     "start_time": "2020-08-23T13:54:48.086806Z"
    },
    "scrolled": true
   },
   "outputs": [
    {
     "name": "stdout",
     "output_type": "stream",
     "text": [
      "=======> 1-th search, train_auc:0.8042, train_std:0.0026, val_auc:0.7717, val_std:0.0197\n",
      "=======> 2-th search, train_auc:0.7981, train_std:0.003, val_auc:0.7701, val_std:0.0193\n",
      "=======> 3-th search, train_auc:0.7918, train_std:0.0033, val_auc:0.7693, val_std:0.0196\n",
      "=======> 4-th search, train_auc:0.7983, train_std:0.0028, val_auc:0.7706, val_std:0.0194\n",
      "=======> 5-th search, train_auc:0.8045, train_std:0.0024, val_auc:0.7721, val_std:0.0197\n",
      "=======> 6-th search, train_auc:0.8072, train_std:0.0021, val_auc:0.7717, val_std:0.0198\n",
      "=======> 7-th search, train_auc:0.7902, train_std:0.0031, val_auc:0.769, val_std:0.0193\n",
      "=======> 8-th search, train_auc:0.8061, train_std:0.0022, val_auc:0.7714, val_std:0.0192\n",
      "=======> 9-th search, train_auc:0.8067, train_std:0.0023, val_auc:0.7712, val_std:0.0192\n",
      "best_params:{'eta': 0.12115276586285892}, best_auc(val):0.7721\n"
     ]
    }
   ],
   "source": [
    "## We then make a finer search around the best parameter value\n",
    "xgb_param_grid_ros={'eta': np.arange(0.8, 1.21, 0.05)*xgb_params_ros['eta']}\n",
    "xgb_param_dist_ros = list(ParameterSampler(xgb_param_grid_ros, 9, RANDOM_SEED))\n",
    "xgb_rscv_ros = MyRandomSearchCV(dtrain, xgb_params_ros, xgb_param_dist_ros, folds=my_cv_ros, maximize=True, verbose=True)\n",
    "xgb_params_ros.update(xgb_rscv_ros['best_params'])"
   ]
  },
  {
   "cell_type": "code",
   "execution_count": 79,
   "metadata": {
    "ExecuteTime": {
     "end_time": "2020-08-23T14:01:32.597345Z",
     "start_time": "2020-08-23T13:56:54.375227Z"
    },
    "scrolled": true
   },
   "outputs": [
    {
     "name": "stdout",
     "output_type": "stream",
     "text": [
      "=======> 1-th search, train_auc:0.8045, train_std:0.0024, val_auc:0.7721, val_std:0.0197\n",
      "=======> 2-th search, train_auc:0.8045, train_std:0.0024, val_auc:0.7721, val_std:0.0197\n",
      "=======> 3-th search, train_auc:0.7985, train_std:0.0027, val_auc:0.7709, val_std:0.0201\n",
      "=======> 4-th search, train_auc:0.7978, train_std:0.003, val_auc:0.7718, val_std:0.0206\n",
      "=======> 5-th search, train_auc:0.8015, train_std:0.0028, val_auc:0.773, val_std:0.0197\n",
      "=======> 6-th search, train_auc:0.805, train_std:0.0026, val_auc:0.7746, val_std:0.0198\n",
      "=======> 7-th search, train_auc:0.8045, train_std:0.0024, val_auc:0.7721, val_std:0.0197\n",
      "=======> 8-th search, train_auc:0.7985, train_std:0.0027, val_auc:0.7709, val_std:0.0201\n",
      "=======> 9-th search, train_auc:0.7978, train_std:0.003, val_auc:0.7718, val_std:0.0206\n",
      "=======> 10-th search, train_auc:0.8015, train_std:0.0028, val_auc:0.773, val_std:0.0197\n",
      "=======> 11-th search, train_auc:0.804, train_std:0.0027, val_auc:0.7739, val_std:0.0199\n",
      "=======> 12-th search, train_auc:0.7899, train_std:0.0034, val_auc:0.7685, val_std:0.0201\n",
      "=======> 13-th search, train_auc:0.7906, train_std:0.0038, val_auc:0.769, val_std:0.0203\n",
      "=======> 14-th search, train_auc:0.7906, train_std:0.0038, val_auc:0.7698, val_std:0.0207\n",
      "=======> 15-th search, train_auc:0.7903, train_std:0.0036, val_auc:0.7704, val_std:0.0204\n",
      "=======> 16-th search, train_auc:0.7902, train_std:0.0037, val_auc:0.7705, val_std:0.0204\n",
      "=======> 17-th search, train_auc:0.7795, train_std:0.0044, val_auc:0.7657, val_std:0.019\n",
      "=======> 18-th search, train_auc:0.7795, train_std:0.0044, val_auc:0.7657, val_std:0.019\n",
      "=======> 19-th search, train_auc:0.7795, train_std:0.0044, val_auc:0.7661, val_std:0.0192\n",
      "=======> 20-th search, train_auc:0.7798, train_std:0.0044, val_auc:0.7664, val_std:0.0194\n",
      "=======> 21-th search, train_auc:0.7798, train_std:0.0044, val_auc:0.7664, val_std:0.0194\n",
      "=======> 22-th search, train_auc:0.7702, train_std:0.0066, val_auc:0.7622, val_std:0.0163\n",
      "=======> 23-th search, train_auc:0.7702, train_std:0.0066, val_auc:0.7622, val_std:0.0163\n",
      "=======> 24-th search, train_auc:0.7698, train_std:0.0073, val_auc:0.7627, val_std:0.0165\n",
      "=======> 25-th search, train_auc:0.7698, train_std:0.0073, val_auc:0.7627, val_std:0.0165\n",
      "=======> 26-th search, train_auc:0.7698, train_std:0.0073, val_auc:0.7627, val_std:0.0165\n",
      "best_params:{'min_child_weight': 727.0, 'gamma': 1.0}, best_auc(val):0.7746\n"
     ]
    }
   ],
   "source": [
    "## We fianlly tune less important parameters.\n",
    "ntrain = my_cv_ros[0][0].shape[0]\n",
    "NaiveLoss = -ntrain * np.log(0.5)                                                                  ## It's the loss based on random guess\n",
    "xgb_param_grid_ros={'min_child_weight': np.linspace(1, ntrain//1e2, 5),  ## Our dataset is large, so using 1,2,3,4,... is meaningless\n",
    "                                    'gamma': np.linspace(1, NaiveLoss//1e2, 5)}\n",
    "DefaultParam = {'min_child_weight':1, 'gamma':0}                   ## In case the default works best\n",
    "xgb_param_dist_ros = [DefaultParam] + list(ParameterSampler(xgb_param_grid_ros, 25, RANDOM_SEED))\n",
    "xgb_rscv_ros = MyRandomSearchCV(dtrain, xgb_params_ros, xgb_param_dist_ros, folds=my_cv_ros, maximize=True, verbose=True)\n",
    "xgb_params_ros.update(xgb_rscv_ros['best_params'])"
   ]
  },
  {
   "cell_type": "code",
   "execution_count": 80,
   "metadata": {
    "ExecuteTime": {
     "end_time": "2020-08-23T14:04:22.573961Z",
     "start_time": "2020-08-23T14:01:32.599379Z"
    }
   },
   "outputs": [
    {
     "name": "stdout",
     "output_type": "stream",
     "text": [
      "=======> 1-th search, train_auc:0.8045, train_std:0.0024, val_auc:0.7721, val_std:0.0197\n",
      "=======> 2-th search, train_auc:0.8016, train_std:0.0027, val_auc:0.7735, val_std:0.0202\n",
      "=======> 3-th search, train_auc:0.8015, train_std:0.0027, val_auc:0.7735, val_std:0.0206\n",
      "=======> 4-th search, train_auc:0.8048, train_std:0.0025, val_auc:0.7741, val_std:0.0196\n",
      "=======> 5-th search, train_auc:0.8048, train_std:0.0025, val_auc:0.7741, val_std:0.0196\n",
      "=======> 6-th search, train_auc:0.805, train_std:0.0026, val_auc:0.7746, val_std:0.0198\n",
      "=======> 7-th search, train_auc:0.8048, train_std:0.0026, val_auc:0.7745, val_std:0.0202\n",
      "=======> 8-th search, train_auc:0.8048, train_std:0.0026, val_auc:0.7745, val_std:0.0202\n",
      "=======> 9-th search, train_auc:0.8048, train_std:0.0025, val_auc:0.7747, val_std:0.0198\n",
      "=======> 10-th search, train_auc:0.8048, train_std:0.0024, val_auc:0.7746, val_std:0.0198\n",
      "best_params:{'min_child_weight': 836}, best_auc(val):0.7747\n"
     ]
    }
   ],
   "source": [
    "## We also make a finer search around the best parameter value\n",
    "xgb_param_grid_ros={'min_child_weight': (np.arange(0.8, 1.21, 0.05)*xgb_params_ros['min_child_weight']).astype(int)}\n",
    "DefaultParam = {'min_child_weight':1, 'gamma':0}                   ## In case the default works best\n",
    "xgb_param_dist_ros = [DefaultParam] + list(ParameterSampler(xgb_param_grid_ros, 25, RANDOM_SEED))\n",
    "xgb_rscv_ros = MyRandomSearchCV(dtrain, xgb_params_ros, xgb_param_dist_ros, folds=my_cv_ros, maximize=True, verbose=True)\n",
    "xgb_params_ros.update(xgb_rscv_ros['best_params'])"
   ]
  },
  {
   "cell_type": "markdown",
   "metadata": {},
   "source": [
    "Now, we get the final model!"
   ]
  },
  {
   "cell_type": "code",
   "execution_count": 81,
   "metadata": {
    "ExecuteTime": {
     "end_time": "2020-08-23T14:04:24.801776Z",
     "start_time": "2020-08-23T14:04:22.576316Z"
    }
   },
   "outputs": [],
   "source": [
    "xgb_BestModels_ros = getBestModels(X_train, y_train, my_NOcv_ros, xgb_params=xgb_params_ros, ntrees=xgb_rscv_ros['cv_results'].shape[0])"
   ]
  },
  {
   "cell_type": "code",
   "execution_count": null,
   "metadata": {},
   "outputs": [],
   "source": []
  },
  {
   "cell_type": "markdown",
   "metadata": {},
   "source": [
    "## Part 3: Kaggle Competition\n",
    "\n",
    "Now that you've created a model to predict which individuals are most likely to respond to a mailout campaign, it's time to test that model in competition through Kaggle. If you click on the link [here](http://www.kaggle.com/t/21e6d45d4c574c7fa2d868f0e8c83140), you'll be taken to the competition page where, if you have a Kaggle account, you can enter. If you're one of the top performers, you may have the chance to be contacted by a hiring manager from Arvato or Bertelsmann for an interview!\n",
    "\n",
    "Your entry to the competition should be a CSV file with two columns. The first column should be a copy of \"LNR\", which acts as an ID number for each individual in the \"TEST\" partition. The second column, \"RESPONSE\", should be some measure of how likely each individual became a customer – this might not be a straightforward probability. As you should have found in Part 2, there is a large output class imbalance, where most individuals did not respond to the mailout. Thus, predicting individual classes and using accuracy does not seem to be an appropriate performance evaluation method. Instead, the competition will be using AUC to evaluate performance. The exact values of the \"RESPONSE\" column do not matter as much: only that the higher values try to capture as many of the actual customers as possible, early in the ROC curve sweep."
   ]
  },
  {
   "cell_type": "markdown",
   "metadata": {
    "ExecuteTime": {
     "end_time": "2020-08-02T01:38:23.518956Z",
     "start_time": "2020-08-02T01:38:23.514899Z"
    }
   },
   "source": [
    "We read in the test set and do the same preprocessing as training set."
   ]
  },
  {
   "cell_type": "code",
   "execution_count": 82,
   "metadata": {
    "ExecuteTime": {
     "end_time": "2020-08-23T14:04:27.549085Z",
     "start_time": "2020-08-23T14:04:24.803669Z"
    },
    "scrolled": true
   },
   "outputs": [],
   "source": [
    "mailout_test = pd.read_csv(os.path.join(os.getcwd(), 'mailout_test.csv'), sep=';')\n",
    "mailout_test  = azdias_data_preprocessing(mailout_test)\n",
    "assert(mailout_test.shape[1] == (customers.shape[1] - 3))\n",
    "\n",
    "from sklearn.preprocessing import MinMaxScaler\n",
    "mailout_test_pca = mailout_test[pca_features]\n",
    "mailout_test_NonNegativeMin = np.where(mailout_test_pca<0, np.inf, mailout_test_pca).min(axis=0)\n",
    "mailout_test_pca = mailout_test_pca - mailout_test_NonNegativeMin\n",
    "\n",
    "ss_mailout_test = MinMaxScaler()\n",
    "mailout_test_scaled = ss_mailout_test.fit_transform(mailout_test_pca)\n",
    "mailout_test_PCs = pca.transform(mailout_test_scaled)[:, :num_PCs]\n",
    "mailout_test_dist = kmeans.transform(mailout_test_PCs).min(axis=1).round(3)\n",
    "mailout_test['CLUSTER_DIST'] = mailout_test_dist"
   ]
  },
  {
   "cell_type": "code",
   "execution_count": 83,
   "metadata": {
    "ExecuteTime": {
     "end_time": "2020-08-23T14:04:28.211065Z",
     "start_time": "2020-08-23T14:04:27.551052Z"
    }
   },
   "outputs": [],
   "source": [
    "X_test, y_test = mailout_test.drop(columns=['LNR']).values, np.zeros(mailout_test.shape[0])\n",
    "X_test_NonNegativeMin = np.where(X_test<0, np.inf, X_test).min(axis=0)\n",
    "X_test = X_test - X_test_NonNegativeMin\n",
    "\n",
    "X_test = X_test[:, feature_kept_corr][:, feature_kept_rfc]\n",
    "\n",
    "ss_X_test = MinMaxScaler().fit_transform(X_test)\n",
    "dtest = xgb.DMatrix(X_test, y_test)"
   ]
  },
  {
   "cell_type": "code",
   "execution_count": 84,
   "metadata": {
    "ExecuteTime": {
     "end_time": "2020-08-23T14:04:28.413768Z",
     "start_time": "2020-08-23T14:04:28.213326Z"
    },
    "scrolled": true
   },
   "outputs": [],
   "source": [
    "y_proba = ensemble_proba(xgb_BestModels_ros, X_test, y_test)\n",
    "\n",
    "result = pd.DataFrame(index=mailout_test.index)\n",
    "result['LNR'] = mailout_test['LNR']\n",
    "result['RESPONSE'] = y_proba"
   ]
  },
  {
   "cell_type": "code",
   "execution_count": 85,
   "metadata": {
    "ExecuteTime": {
     "end_time": "2020-08-23T14:04:28.547560Z",
     "start_time": "2020-08-23T14:04:28.415631Z"
    }
   },
   "outputs": [],
   "source": [
    "result.to_csv('/Users/heart/Desktop/ZhihuaZhang-Arvato-Result2.csv', index=False)"
   ]
  },
  {
   "cell_type": "code",
   "execution_count": 86,
   "metadata": {
    "ExecuteTime": {
     "end_time": "2020-08-23T14:04:28.575980Z",
     "start_time": "2020-08-23T14:04:28.549731Z"
    }
   },
   "outputs": [
    {
     "data": {
      "text/html": [
       "<div>\n",
       "<style scoped>\n",
       "    .dataframe tbody tr th:only-of-type {\n",
       "        vertical-align: middle;\n",
       "    }\n",
       "\n",
       "    .dataframe tbody tr th {\n",
       "        vertical-align: top;\n",
       "    }\n",
       "\n",
       "    .dataframe thead th {\n",
       "        text-align: right;\n",
       "    }\n",
       "</style>\n",
       "<table border=\"1\" class=\"dataframe\">\n",
       "  <thead>\n",
       "    <tr style=\"text-align: right;\">\n",
       "      <th></th>\n",
       "      <th>LNR</th>\n",
       "      <th>RESPONSE</th>\n",
       "    </tr>\n",
       "  </thead>\n",
       "  <tbody>\n",
       "    <tr>\n",
       "      <th>0</th>\n",
       "      <td>1754</td>\n",
       "      <td>0.254158</td>\n",
       "    </tr>\n",
       "    <tr>\n",
       "      <th>1</th>\n",
       "      <td>1770</td>\n",
       "      <td>0.288457</td>\n",
       "    </tr>\n",
       "    <tr>\n",
       "      <th>2</th>\n",
       "      <td>1465</td>\n",
       "      <td>0.241959</td>\n",
       "    </tr>\n",
       "    <tr>\n",
       "      <th>3</th>\n",
       "      <td>1470</td>\n",
       "      <td>0.332060</td>\n",
       "    </tr>\n",
       "    <tr>\n",
       "      <th>4</th>\n",
       "      <td>1478</td>\n",
       "      <td>0.363801</td>\n",
       "    </tr>\n",
       "  </tbody>\n",
       "</table>\n",
       "</div>"
      ],
      "text/plain": [
       "    LNR  RESPONSE\n",
       "0  1754  0.254158\n",
       "1  1770  0.288457\n",
       "2  1465  0.241959\n",
       "3  1470  0.332060\n",
       "4  1478  0.363801"
      ]
     },
     "execution_count": 86,
     "metadata": {},
     "output_type": "execute_result"
    }
   ],
   "source": [
    "pd.read_csv('/Users/heart/Desktop/ZhihuaZhang-Arvato-Result2.csv').head()"
   ]
  },
  {
   "cell_type": "code",
   "execution_count": null,
   "metadata": {},
   "outputs": [],
   "source": []
  }
 ],
 "metadata": {
  "hide_input": false,
  "kernelspec": {
   "display_name": "Python 3",
   "language": "python",
   "name": "python3"
  },
  "language_info": {
   "codemirror_mode": {
    "name": "ipython",
    "version": 3
   },
   "file_extension": ".py",
   "mimetype": "text/x-python",
   "name": "python",
   "nbconvert_exporter": "python",
   "pygments_lexer": "ipython3",
   "version": "3.7.6"
  },
  "latex_envs": {
   "LaTeX_envs_menu_present": true,
   "autoclose": false,
   "autocomplete": true,
   "bibliofile": "biblio.bib",
   "cite_by": "apalike",
   "current_citInitial": 1,
   "eqLabelWithNumbers": true,
   "eqNumInitial": 1,
   "hotkeys": {
    "equation": "Ctrl-E",
    "itemize": "Ctrl-I"
   },
   "labels_anchors": false,
   "latex_user_defs": false,
   "report_style_numbering": false,
   "user_envs_cfg": false
  },
  "notify_time": "30",
  "toc": {
   "base_numbering": 1,
   "nav_menu": {},
   "number_sections": true,
   "sideBar": true,
   "skip_h1_title": false,
   "title_cell": "Table of Contents",
   "title_sidebar": "Contents",
   "toc_cell": false,
   "toc_position": {},
   "toc_section_display": true,
   "toc_window_display": false
  }
 },
 "nbformat": 4,
 "nbformat_minor": 2
}
